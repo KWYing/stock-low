{
 "cells": [
  {
   "cell_type": "code",
   "execution_count": 1,
   "metadata": {},
   "outputs": [],
   "source": [
    "# Installing dependencies\n",
    "import numpy as np\n",
    "import pandas as pd\n",
    "from yfQuery import datareader"
   ]
  },
  {
   "cell_type": "code",
   "execution_count": 2,
   "metadata": {},
   "outputs": [],
   "source": [
    "class DataLoader:\n",
    "    '''\n",
    "        Class for loading past stocks prices\n",
    "        symbol: symbol can be either a single symbol or \n",
    "                a list of symbol\n",
    "        start:  start date\n",
    "        end:    end date\n",
    "    '''\n",
    "    def __init__(self, symbol, start, end):\n",
    "        # Preload\n",
    "        self.data = datareader(symbol, start, end)\n",
    "    \n",
    "    def get(self, start, end):\n",
    "        # Return a period of the data\n",
    "        return self.data.iloc[start: end]"
   ]
  },
  {
   "cell_type": "code",
   "execution_count": 3,
   "metadata": {},
   "outputs": [],
   "source": [
    "d = DataLoader('AAPL', '2018-01-01', '2019-12-31')"
   ]
  },
  {
   "cell_type": "code",
   "execution_count": 4,
   "metadata": {},
   "outputs": [],
   "source": [
    "prices = d.data.iloc[0]"
   ]
  },
  {
   "cell_type": "code",
   "execution_count": 5,
   "metadata": {},
   "outputs": [],
   "source": [
    "def price_df(price, period=390):\n",
    "    # Create datetime index by the minutes\n",
    "    # Start time : 9:30AM\n",
    "    # 390 minuntes per trading day\n",
    "    ts = price.name\n",
    "    ts = ts.replace(hour=9, minute=31)\n",
    "    index = pd.date_range(ts, periods=period, freq=\"1min\")\n",
    "\n",
    "    # Stacking all price array\n",
    "    array = np.stack([np.zeros(period) + price['Open'],\n",
    "                      np.zeros(period) + price['High'],\n",
    "                      np.zeros(period) + price['Low'],\n",
    "                      np.zeros(period) + price['Close']\n",
    "                      ]).T\n",
    "    return pd.DataFrame(array, index=index, columns=['Open', 'High', 'Low', 'Close'])"
   ]
  },
  {
   "cell_type": "code",
   "execution_count": 29,
   "metadata": {},
   "outputs": [],
   "source": [
    "period = 390 * 4\n",
    "array = np.zeros(period)\n",
    "array[[0, -1]] = [prices['Open'], prices['Close']]\n",
    "# High and Low indice\n",
    "close_to_low = prices['Close'] / prices['Low'] - 1\n",
    "open_to_low = prices['Open'] / prices['Low'] - 1\n",
    "swap = True if open_to_low < close_to_low else False\n",
    "reduce = np.random.choice([int(period * .40), int(period * .60)])"
   ]
  },
  {
   "cell_type": "code",
   "execution_count": 30,
   "metadata": {},
   "outputs": [],
   "source": [
    "if swap:\n",
    "    low_i = np.random.choice(np.arange(1, reduce))\n",
    "    high_i = np.random.choice(np.arange(low_i, period - 1))\n",
    "else:\n",
    "    high_i = np.random.choice(np.arange(1, reduce))\n",
    "    low_i = np.random.choice(np.arange(high_i, period - 1))"
   ]
  },
  {
   "cell_type": "code",
   "execution_count": null,
   "metadata": {},
   "outputs": [],
   "source": []
  }
 ],
 "metadata": {
  "interpreter": {
   "hash": "381790eac76a4074dff82f2b50f800dde9e4aec7e4db9cc2ec461915829060f9"
  },
  "kernelspec": {
   "display_name": "Python 3.9.5 64-bit ('.venv': venv)",
   "language": "python",
   "name": "python3"
  },
  "language_info": {
   "codemirror_mode": {
    "name": "ipython",
    "version": 3
   },
   "file_extension": ".py",
   "mimetype": "text/x-python",
   "name": "python",
   "nbconvert_exporter": "python",
   "pygments_lexer": "ipython3",
   "version": "3.9.5"
  },
  "orig_nbformat": 4
 },
 "nbformat": 4,
 "nbformat_minor": 2
}
