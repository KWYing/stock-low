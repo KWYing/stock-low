{
 "cells": [
  {
   "cell_type": "code",
   "execution_count": 1,
   "metadata": {},
   "outputs": [],
   "source": [
    "# Installing dependencies\n",
    "import numpy as np\n",
    "import pandas as pd\n",
    "from yfQuery import datareader"
   ]
  },
  {
   "cell_type": "code",
   "execution_count": 2,
   "metadata": {},
   "outputs": [],
   "source": [
    "class DataLoader:\n",
    "    '''\n",
    "        Class for loading past stocks prices\n",
    "        symbol: symbol can be either a single symbol or \n",
    "                a list of symbol\n",
    "        start:  start date\n",
    "        end:    end date\n",
    "    '''\n",
    "    def __init__(self, symbol, start, end):\n",
    "        # Preload\n",
    "        self.data = datareader(symbol, start, end)\n",
    "    \n",
    "    def get(self, start, end):\n",
    "        # Return a period of the data\n",
    "        return self.data.iloc[start: end]"
   ]
  },
  {
   "cell_type": "code",
   "execution_count": 20,
   "metadata": {},
   "outputs": [],
   "source": [
    "def get_target_price(array, i, pct=.95):\n",
    "    # Get next target\n",
    "    target = array[i:][array[i:] > 0][0]\n",
    "    # Get High and Low \n",
    "    high = array.max()\n",
    "    low = array[array > 0].min()\n",
    "    # Current price\n",
    "    current = array[i - 1] if i != 0 else array[i]\n",
    "    # Upper and Lower bound\n",
    "    upper = (high - current) * pct\n",
    "    lower = (low - current) * pct\n",
    "    momen = target - current\n",
    "    gain = current + np.random.uniform(0, upper)\n",
    "    lost = current + np.random.uniform(lower, 0)\n",
    "    if np.random.choice([True, False]):\n",
    "        return gain\n",
    "    return lost"
   ]
  },
  {
   "cell_type": "code",
   "execution_count": 21,
   "metadata": {},
   "outputs": [],
   "source": [
    "def recur(arr, i=0, pct=.95):\n",
    "    # Using Recursion to get price when price is not 0.\n",
    "    if (i + 1) == len(arr):\n",
    "        return arr\n",
    "    elif (arr <= 0).sum() == 0:\n",
    "        return arr\n",
    "    else:\n",
    "        if arr[i] == 0:\n",
    "            arr[i] = get_target_price(arr, i, pct)\n",
    "        return recur(arr, i+1)"
   ]
  },
  {
   "cell_type": "code",
   "execution_count": 22,
   "metadata": {},
   "outputs": [],
   "source": [
    "def restack_array(array):\n",
    "    # Restacking Array to Open, High, Low, Close\n",
    "    narr = array.reshape(-1, 4).copy()\n",
    "    nclose = narr[:, -1]\n",
    "    nopen = narr[:, 0]\n",
    "    nopen[1:] = nclose[:-1]\n",
    "    nhigh = narr.max(1)\n",
    "    nlow = narr.min(1)\n",
    "    return np.stack([nopen, \n",
    "                     nhigh, \n",
    "                     nlow, \n",
    "                     nclose]).T"
   ]
  },
  {
   "cell_type": "code",
   "execution_count": 23,
   "metadata": {},
   "outputs": [],
   "source": [
    "def get_different_time_frame(df, m='min'):\n",
    "    if m != 'min':\n",
    "        o = df['Open'].groupby(by=pd.Grouper(freq=m)).first()\n",
    "        c = df['Close'].groupby(by=pd.Grouper(freq=m)).last()\n",
    "        h = df['High'].groupby(by=pd.Grouper(freq=m)).max()\n",
    "        l = df['Low'].groupby(by=pd.Grouper(freq=m)).min()\n",
    "        return pd.concat([o, h, l, c], axis=1)\n",
    "    return df"
   ]
  },
  {
   "cell_type": "code",
   "execution_count": 24,
   "metadata": {},
   "outputs": [],
   "source": [
    "def price_df(price, m='min', pct=.95):\n",
    "    # Create datetime index by the minutes\n",
    "    # Start time : 9:30AM\n",
    "    # 390 minuntes per trading day\n",
    "    period = 390\n",
    "    ts = price.name\n",
    "    ts = ts.replace(hour=9, minute=31)\n",
    "    index = pd.date_range(ts, periods=period, freq=\"1min\")\n",
    "    # Create empty array\n",
    "    length = period * 4\n",
    "    array = np.zeros(length)\n",
    "    # Random points for high and low\n",
    "    point_a = np.random.randint(1, int(length * .6))\n",
    "    point_b = np.random.randint(point_a + int(length * .1), length - int(period * .1))\n",
    "    swap = np.random.choice([True, False])\n",
    "    if swap:\n",
    "        pr = price['Open'], price['Low'], price['High'], price['Close']\n",
    "    else:\n",
    "        pr = price['Open'], price['High'], price['Low'], price['Close']\n",
    "    array[[0, point_a, point_b, -1]] = pr\n",
    "    # Generating psudo inbetween prices\n",
    "    recur(array, pct=pct)\n",
    "    # Stacking all price array\n",
    "    stacked = restack_array(array)\n",
    "    return stacked\n",
    "    # df = pd.DataFrame(stacked, index=index, columns=['Open', 'High', 'Low', 'Close'])\n",
    "    # return get_different_time_frame(df, m=m)"
   ]
  },
  {
   "cell_type": "code",
   "execution_count": 8,
   "metadata": {},
   "outputs": [],
   "source": [
    "d = DataLoader('AAPL', '2018-01-01', '2019-12-31')\n",
    "price = d.data.iloc[0]"
   ]
  },
  {
   "cell_type": "code",
   "execution_count": 25,
   "metadata": {},
   "outputs": [
    {
     "data": {
      "text/plain": [
       "array([[42.540001  , 43.04154638, 42.540001  , 43.04154638],\n",
       "       [43.04154638, 43.04154638, 42.61757112, 42.61757112],\n",
       "       [42.61757112, 42.81206556, 42.36975274, 42.36975274],\n",
       "       ...,\n",
       "       [42.76788351, 42.78580312, 42.54255183, 42.54255183],\n",
       "       [42.54255183, 42.73333509, 42.36796773, 42.73333509],\n",
       "       [42.73333509, 43.064999  , 42.73333509, 43.064999  ]])"
      ]
     },
     "execution_count": 25,
     "metadata": {},
     "output_type": "execute_result"
    }
   ],
   "source": [
    "price_df(price, m='15min')"
   ]
  },
  {
   "cell_type": "code",
   "execution_count": null,
   "metadata": {},
   "outputs": [],
   "source": []
  }
 ],
 "metadata": {
  "interpreter": {
   "hash": "381790eac76a4074dff82f2b50f800dde9e4aec7e4db9cc2ec461915829060f9"
  },
  "kernelspec": {
   "display_name": "Python 3.9.5 64-bit ('.venv': venv)",
   "language": "python",
   "name": "python3"
  },
  "language_info": {
   "codemirror_mode": {
    "name": "ipython",
    "version": 3
   },
   "file_extension": ".py",
   "mimetype": "text/x-python",
   "name": "python",
   "nbconvert_exporter": "python",
   "pygments_lexer": "ipython3",
   "version": "3.9.5"
  },
  "orig_nbformat": 4
 },
 "nbformat": 4,
 "nbformat_minor": 2
}
