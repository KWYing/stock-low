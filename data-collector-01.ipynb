{
 "cells": [
  {
   "cell_type": "code",
   "execution_count": 13,
   "metadata": {},
   "outputs": [],
   "source": [
    "# Denpendances\n",
    "import numpy as np\n",
    "import pandas as pd\n",
    "from dLoader import DataLoader"
   ]
  },
  {
   "cell_type": "markdown",
   "metadata": {},
   "source": [
    "# Load Russell 2000 CSV"
   ]
  },
  {
   "cell_type": "code",
   "execution_count": 14,
   "metadata": {},
   "outputs": [],
   "source": [
    "r2000 = pd.read_csv('Russell2000.csv', header=0, index_col=0)"
   ]
  },
  {
   "cell_type": "code",
   "execution_count": 15,
   "metadata": {},
   "outputs": [
    {
     "data": {
      "text/html": [
       "<div>\n",
       "<style scoped>\n",
       "    .dataframe tbody tr th:only-of-type {\n",
       "        vertical-align: middle;\n",
       "    }\n",
       "\n",
       "    .dataframe tbody tr th {\n",
       "        vertical-align: top;\n",
       "    }\n",
       "\n",
       "    .dataframe thead th {\n",
       "        text-align: right;\n",
       "    }\n",
       "</style>\n",
       "<table border=\"1\" class=\"dataframe\">\n",
       "  <thead>\n",
       "    <tr style=\"text-align: right;\">\n",
       "      <th></th>\n",
       "      <th>Ticker</th>\n",
       "      <th>Company</th>\n",
       "      <th>Sector</th>\n",
       "      <th>Skipped</th>\n",
       "    </tr>\n",
       "  </thead>\n",
       "  <tbody>\n",
       "    <tr>\n",
       "      <th>0</th>\n",
       "      <td>AMC</td>\n",
       "      <td>AMC ENTERTAINMENT HOLDINGS INC CLA</td>\n",
       "      <td>Communication</td>\n",
       "      <td>False</td>\n",
       "    </tr>\n",
       "    <tr>\n",
       "      <th>1</th>\n",
       "      <td>OVV</td>\n",
       "      <td>OVINTIV INC</td>\n",
       "      <td>Energy</td>\n",
       "      <td>False</td>\n",
       "    </tr>\n",
       "    <tr>\n",
       "      <th>2</th>\n",
       "      <td>NTLA</td>\n",
       "      <td>INTELLIA THERAPEUTICS INC</td>\n",
       "      <td>Health Care</td>\n",
       "      <td>False</td>\n",
       "    </tr>\n",
       "    <tr>\n",
       "      <th>3</th>\n",
       "      <td>LSCC</td>\n",
       "      <td>LATTICE SEMICONDUCTOR CORP</td>\n",
       "      <td>Information Technology</td>\n",
       "      <td>False</td>\n",
       "    </tr>\n",
       "    <tr>\n",
       "      <th>4</th>\n",
       "      <td>TTEK</td>\n",
       "      <td>TETRA TECH INC</td>\n",
       "      <td>Industrials</td>\n",
       "      <td>False</td>\n",
       "    </tr>\n",
       "    <tr>\n",
       "      <th>...</th>\n",
       "      <td>...</td>\n",
       "      <td>...</td>\n",
       "      <td>...</td>\n",
       "      <td>...</td>\n",
       "    </tr>\n",
       "    <tr>\n",
       "      <th>2029</th>\n",
       "      <td>GBL</td>\n",
       "      <td>GAMCO INVESTORS INC</td>\n",
       "      <td>Financials</td>\n",
       "      <td>False</td>\n",
       "    </tr>\n",
       "    <tr>\n",
       "      <th>2030</th>\n",
       "      <td>PDLI</td>\n",
       "      <td>PDL BIOPHARMA INC</td>\n",
       "      <td>Health Care</td>\n",
       "      <td>True</td>\n",
       "    </tr>\n",
       "    <tr>\n",
       "      <th>2031</th>\n",
       "      <td>GTXI</td>\n",
       "      <td>GTXI INC - CVR</td>\n",
       "      <td>Health Care</td>\n",
       "      <td>True</td>\n",
       "    </tr>\n",
       "    <tr>\n",
       "      <th>2032</th>\n",
       "      <td>P5N994</td>\n",
       "      <td>Petrocorp Inc Escrow</td>\n",
       "      <td>Financials</td>\n",
       "      <td>True</td>\n",
       "    </tr>\n",
       "    <tr>\n",
       "      <th>2033</th>\n",
       "      <td>RTYZ1</td>\n",
       "      <td>RUSSELL 2000 EMINI CME DEC 21</td>\n",
       "      <td>Cash and/or Derivatives</td>\n",
       "      <td>True</td>\n",
       "    </tr>\n",
       "  </tbody>\n",
       "</table>\n",
       "<p>2034 rows × 4 columns</p>\n",
       "</div>"
      ],
      "text/plain": [
       "      Ticker                             Company                   Sector  \\\n",
       "0        AMC  AMC ENTERTAINMENT HOLDINGS INC CLA            Communication   \n",
       "1        OVV                         OVINTIV INC                   Energy   \n",
       "2       NTLA           INTELLIA THERAPEUTICS INC              Health Care   \n",
       "3       LSCC          LATTICE SEMICONDUCTOR CORP   Information Technology   \n",
       "4       TTEK                      TETRA TECH INC              Industrials   \n",
       "...      ...                                 ...                      ...   \n",
       "2029     GBL                 GAMCO INVESTORS INC               Financials   \n",
       "2030    PDLI                   PDL BIOPHARMA INC              Health Care   \n",
       "2031    GTXI                      GTXI INC - CVR              Health Care   \n",
       "2032  P5N994                Petrocorp Inc Escrow               Financials   \n",
       "2033   RTYZ1       RUSSELL 2000 EMINI CME DEC 21  Cash and/or Derivatives   \n",
       "\n",
       "      Skipped  \n",
       "0       False  \n",
       "1       False  \n",
       "2       False  \n",
       "3       False  \n",
       "4       False  \n",
       "...       ...  \n",
       "2029    False  \n",
       "2030     True  \n",
       "2031     True  \n",
       "2032     True  \n",
       "2033     True  \n",
       "\n",
       "[2034 rows x 4 columns]"
      ]
     },
     "execution_count": 15,
     "metadata": {},
     "output_type": "execute_result"
    }
   ],
   "source": [
    "r2000"
   ]
  },
  {
   "cell_type": "markdown",
   "metadata": {},
   "source": [
    "# Download Data"
   ]
  },
  {
   "cell_type": "code",
   "execution_count": 4,
   "metadata": {},
   "outputs": [],
   "source": [
    "tickers = np.array(r2000['Ticker'])\n",
    "done = []\n",
    "skip = r2000['Ticker'][r2000['Skipped']].to_list()"
   ]
  },
  {
   "cell_type": "code",
   "execution_count": 5,
   "metadata": {},
   "outputs": [],
   "source": [
    "import os, time\n",
    "\n",
    "while True:    \n",
    "    wait = False\n",
    "\n",
    "    db = os.path.abspath('Database')\n",
    "    for ticker in tickers:\n",
    "        if ticker in done or ticker in skip:\n",
    "            continue\n",
    "        elif os.path.exists(os.path.join(db, ticker + '.csv')):\n",
    "            done.append(ticker)\n",
    "            continue\n",
    "        \n",
    "        print('Downloading...', end='')\n",
    "        try:\n",
    "            DataLoader(ticker)\n",
    "            if os.path.exists(os.path.join(db, ticker + '.csv')):\n",
    "                print(ticker, 'Download finish!')\n",
    "            done.append(ticker)\n",
    "        except Exception as e:\n",
    "            if 'Unauthorized' in str(e):\n",
    "                wait = True\n",
    "                print(ticker, e)\n",
    "                break\n",
    "            else:\n",
    "                skip.append(ticker)\n",
    "                print(ticker, e)\n",
    "    \n",
    "    if wait:\n",
    "        time.sleep(60*3)\n",
    "    else:\n",
    "        break"
   ]
  },
  {
   "cell_type": "markdown",
   "metadata": {},
   "source": [
    "### Save modify Russell  2000 DataFrame to csv"
   ]
  },
  {
   "cell_type": "code",
   "execution_count": 6,
   "metadata": {},
   "outputs": [],
   "source": [
    "r2000['Skipped'] = np.isin(r2000['Ticker'], skip)"
   ]
  },
  {
   "cell_type": "code",
   "execution_count": 9,
   "metadata": {},
   "outputs": [],
   "source": [
    "# r2000.to_csv('Russell2000.csv')"
   ]
  },
  {
   "cell_type": "code",
   "execution_count": null,
   "metadata": {},
   "outputs": [],
   "source": []
  }
 ],
 "metadata": {
  "interpreter": {
   "hash": "381790eac76a4074dff82f2b50f800dde9e4aec7e4db9cc2ec461915829060f9"
  },
  "kernelspec": {
   "display_name": "Python 3.9.7 64-bit ('.venv': venv)",
   "language": "python",
   "name": "python3"
  },
  "language_info": {
   "codemirror_mode": {
    "name": "ipython",
    "version": 3
   },
   "file_extension": ".py",
   "mimetype": "text/x-python",
   "name": "python",
   "nbconvert_exporter": "python",
   "pygments_lexer": "ipython3",
   "version": "3.9.7"
  },
  "orig_nbformat": 4
 },
 "nbformat": 4,
 "nbformat_minor": 2
}
