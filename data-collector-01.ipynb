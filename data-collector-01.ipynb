{
 "cells": [
  {
   "cell_type": "code",
   "execution_count": 1,
   "metadata": {},
   "outputs": [],
   "source": [
    "# Denpendances\n",
    "import numpy as np\n",
    "import pandas as pd\n",
    "from dLoader import DataLoader"
   ]
  },
  {
   "cell_type": "code",
   "execution_count": 2,
   "metadata": {},
   "outputs": [],
   "source": [
    "stock = \"AAPL\"\n",
    "data = DataLoader(stock).get_data('2018-01-01', '2020-12-31')"
   ]
  },
  {
   "cell_type": "code",
   "execution_count": 3,
   "metadata": {},
   "outputs": [],
   "source": [
    "def clip_dataframe(df, p):\n",
    "    # Batching\n",
    "    batches = len(df) // p\n",
    "    max_length = batches * p\n",
    "    return df.iloc[-max_length:].copy()\n",
    "\n",
    "def simple_gain_loss(data, period):\n",
    "    ndf = clip_dataframe(data, period)\n",
    "    base = np.array(ndf['Close']).reshape(-1, period)[:, 0]\n",
    "    shifted = ndf.shift(-1).fillna(method='ffill')\n",
    "    target = np.array(shifted['Close']).reshape(-1, period)\n",
    "    gain = target.max(1) / base - 1\n",
    "    loss = target.min(1) / base - 1\n",
    "    return gain, loss"
   ]
  },
  {
   "cell_type": "code",
   "execution_count": 4,
   "metadata": {},
   "outputs": [
    {
     "name": "stdout",
     "output_type": "stream",
     "text": [
      " Days | Gain % | Loss % | Diff % \n",
      "    5 |   2.62 |  -1.54 |   1.08\n",
      "   10 |   4.68 |  -2.43 |   2.25\n",
      "   15 |   5.75 |  -4.17 |   1.58\n",
      "   20 |   7.74 |  -3.90 |   3.84\n"
     ]
    }
   ],
   "source": [
    "print(' Days | Gain % | Loss % | Diff % ')\n",
    "for i in range(5, 21, 5):\n",
    "    gain, loss = simple_gain_loss(data, i)\n",
    "    diff = gain.mean() - abs(loss.mean())\n",
    "    print('{:>5d} | {:>6.2f} | {:>6.2f} | {:>6.2f}'.format(\n",
    "        i, gain.mean() * 100, loss.mean() * 100, diff * 100))"
   ]
  },
  {
   "cell_type": "code",
   "execution_count": 5,
   "metadata": {},
   "outputs": [],
   "source": [
    "period = 3"
   ]
  },
  {
   "cell_type": "code",
   "execution_count": 6,
   "metadata": {},
   "outputs": [],
   "source": [
    "# Base sell and stop limit\n",
    "gain, loss = simple_gain_loss(data, period)\n",
    "sell_stop = gain.mean()\n",
    "stop_loss = loss.mean()"
   ]
  },
  {
   "cell_type": "code",
   "execution_count": 7,
   "metadata": {},
   "outputs": [
    {
     "name": "stdout",
     "output_type": "stream",
     "text": [
      "0.0001392184112423145 0.1518474332905011 0.025365138365752337\n",
      "0.0008334257085098255\n"
     ]
    }
   ],
   "source": [
    "# Calculate sell stop step\n",
    "pos_gain = gain[gain > 0]\n",
    "pos_min = pos_gain.min()\n",
    "pos_max = pos_gain.max()\n",
    "pos_mean = pos_gain.mean()\n",
    "print(pos_min, pos_max, pos_mean)\n",
    "step = pos_max / pos_mean * pos_min\n",
    "print(step)"
   ]
  },
  {
   "cell_type": "code",
   "execution_count": 8,
   "metadata": {},
   "outputs": [],
   "source": [
    "data = DataLoader(stock).get_data('2021-01-01', '2021-12-31')"
   ]
  },
  {
   "cell_type": "code",
   "execution_count": 9,
   "metadata": {},
   "outputs": [],
   "source": [
    "ndf = clip_dataframe(data, period)\n",
    "# base\n",
    "base = np.array(ndf['Close']).reshape(-1, period)[:, 0]\n",
    "base = np.expand_dims(base, 1)\n",
    "# shifted\n",
    "shift = ndf.shift(-1).fillna(method='ffill')\n",
    "# High\n",
    "high = np.array(shift['High']).reshape(-1, period)\n",
    "# Low\n",
    "low = np.array(shift['Low']).reshape(-1, period)\n",
    "# Open\n",
    "Open = np.array(shift['Open']).reshape(-1, period)\n",
    "# Close\n",
    "close = np.array(shift['Close']).reshape(-1, period)"
   ]
  },
  {
   "cell_type": "code",
   "execution_count": 10,
   "metadata": {},
   "outputs": [],
   "source": [
    "# Gaining percentage\n",
    "high_gains = high / base - 1\n",
    "low_gains = low / base - 1\n",
    "close_gains = close / base - 1\n",
    "open_gains = Open / base - 1"
   ]
  },
  {
   "cell_type": "code",
   "execution_count": 11,
   "metadata": {},
   "outputs": [],
   "source": [
    "# Sell and Stop limit mask\n",
    "mask_high = high_gains > sell_stop\n",
    "mask_low = low_gains < stop_loss\n",
    "mask_open = open_gains < stop_loss"
   ]
  },
  {
   "cell_type": "code",
   "execution_count": 12,
   "metadata": {},
   "outputs": [],
   "source": [
    "# Getting gained percentage \n",
    "length = len(base)\n",
    "arr = []\n",
    "for i in range(length):\n",
    "    mo = mask_open[i]\n",
    "    mh = mask_high[i]\n",
    "    ml = mask_low[i]\n",
    "    score = mh + 0 - ml\n",
    "    if mo[0]:\n",
    "        arr.append(open_gains[i, 0])\n",
    "    elif score.sum() == 0:\n",
    "        arr.append(close_gains[i, -1])\n",
    "    else:\n",
    "        for ii, s in enumerate(score):\n",
    "            # Sell limit: Using this to create maximum profit\n",
    "            if s == 1:\n",
    "                hg = high_gains[i, ii]\n",
    "                if hg > sell_stop:\n",
    "                    arr.append(hg - step)\n",
    "                else:\n",
    "                    arr.append(sell_stop)\n",
    "                break\n",
    "            elif s == -1:\n",
    "                arr.append(stop_loss)\n",
    "                break"
   ]
  },
  {
   "cell_type": "code",
   "execution_count": 13,
   "metadata": {},
   "outputs": [
    {
     "name": "stdout",
     "output_type": "stream",
     "text": [
      "Capital Gain with Current Strategy: 64.48%\n"
     ]
    }
   ],
   "source": [
    "# Using gain to calculate possible capital gain\n",
    "capital = 1000\n",
    "original_capital = capital\n",
    "max_shares = 100\n",
    "gained = base.reshape(-1) * np.array(arr)\n",
    "for i in range(length):\n",
    "    g = gained[i]\n",
    "    b = base.reshape(-1)[i]\n",
    "    shares = capital // b\n",
    "    if shares > max_shares:\n",
    "        shares = max_shares\n",
    "    # Update capital\n",
    "    capital += g * shares\n",
    "\n",
    "percentage_capital_gain = capital / original_capital- 1\n",
    "print('Capital Gain with Current Strategy: {:.2f}%'.format(\n",
    "    percentage_capital_gain * 100))\n"
   ]
  },
  {
   "cell_type": "code",
   "execution_count": null,
   "metadata": {},
   "outputs": [],
   "source": []
  }
 ],
 "metadata": {
  "interpreter": {
   "hash": "381790eac76a4074dff82f2b50f800dde9e4aec7e4db9cc2ec461915829060f9"
  },
  "kernelspec": {
   "display_name": "Python 3.9.7 64-bit ('.venv': venv)",
   "language": "python",
   "name": "python3"
  },
  "language_info": {
   "codemirror_mode": {
    "name": "ipython",
    "version": 3
   },
   "file_extension": ".py",
   "mimetype": "text/x-python",
   "name": "python",
   "nbconvert_exporter": "python",
   "pygments_lexer": "ipython3",
   "version": "3.9.7"
  },
  "orig_nbformat": 4
 },
 "nbformat": 4,
 "nbformat_minor": 2
}
