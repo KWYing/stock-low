{
 "cells": [
  {
   "cell_type": "code",
   "execution_count": 1,
   "metadata": {},
   "outputs": [],
   "source": [
    "# Denpendances\n",
    "import numpy as np\n",
    "import pandas as pd\n",
    "from dLoader import DataLoader"
   ]
  },
  {
   "cell_type": "code",
   "execution_count": 2,
   "metadata": {},
   "outputs": [],
   "source": [
    "# Generating gain and loss percentage data\n",
    "def clip_dataframe(df, p):\n",
    "    # Batching for test data\n",
    "    batches = len(df) // p\n",
    "    max_length = batches * p\n",
    "    return df.iloc[-max_length:].copy()\n",
    "\n",
    "def simple_gain_loss(data, period):\n",
    "    # Get gain and loss values base on start of period and\n",
    "    # end of period prices\n",
    "    ndf = clip_dataframe(data, period)\n",
    "    # Base period prices\n",
    "    base = np.array(ndf['Close']).reshape(-1, period)[:, 0]\n",
    "    # Shifting one day to avoid the end period price is the\n",
    "    # base price price\n",
    "    shifted = ndf.shift(-1).fillna(method='ffill')\n",
    "    target = np.array(shifted['Close']).reshape(-1, period)\n",
    "    # Calculate gain and loss price array\n",
    "    gain = target.max(1) / base - 1\n",
    "    loss = target.min(1) / base - 1\n",
    "    return gain.mean(), loss.mean()\n",
    "\n",
    "def average_daily_fluctuation(data, minute=30):\n",
    "    # Calculate an average daily fluctuation percentage value\n",
    "    hl = data['High'] / data['Low'] - 1\n",
    "    minutes = 7.5 * (60 / minute)\n",
    "    return hl.mean() / minutes\n",
    "\n",
    "def get_values(data, period, minute=30):\n",
    "    # Getting values of sell limit, stop loss and fluctuation percentage\n",
    "    sell_limit, stop_loss = simple_gain_loss(data, period)\n",
    "    fluct = average_daily_fluctuation(data, minute)\n",
    "    return sell_limit, stop_loss, fluct"
   ]
  },
  {
   "cell_type": "code",
   "execution_count": 3,
   "metadata": {},
   "outputs": [],
   "source": [
    "# Static back test\n",
    "def not_so_simple_gain_loss(data, period):\n",
    "    ndf = clip_dataframe(data, period)\n",
    "    # Base\n",
    "    base = np.array(ndf['Close']).reshape(-1, period)[:, 0]\n",
    "    # Expanding dimension\n",
    "    base = np.expand_dims(base, 1)\n",
    "    ndf = clip_dataframe(data, period)\n",
    "    # base\n",
    "    base = np.array(ndf['Close']).reshape(-1, period)[:, 0]\n",
    "    base = np.expand_dims(base, 1)\n",
    "    # shifted\n",
    "    shift = ndf.shift(-1).fillna(method='ffill')\n",
    "    # High\n",
    "    high = np.array(shift['High']).reshape(-1, period)\n",
    "    # Low\n",
    "    low = np.array(shift['Low']).reshape(-1, period)\n",
    "    # Open\n",
    "    Open = np.array(shift['Open']).reshape(-1, period)\n",
    "    # Close\n",
    "    close = np.array(shift['Close']).reshape(-1, period)\n",
    "    # Gaining percentage\n",
    "    high_gains = high / base - 1\n",
    "    low_gains = low / base - 1\n",
    "    close_gains = close / base - 1\n",
    "    open_gains = Open / base - 1\n",
    "    return open_gains, high_gains, low_gains, close_gains\n",
    "\n",
    "def calculate_gains(data, period, sell_limit, stop_loss, fluct):\n",
    "    open_gains, high_gains, low_gains, close_gains = not_so_simple_gain_loss(data, period)\n",
    "    # Getting gained percentage \n",
    "    length = len(open_gains)\n",
    "    arr = []\n",
    "    for i in range(length):\n",
    "        sold = False\n",
    "        for p in range(period):\n",
    "            if open_gains[i, p] < stop_loss:\n",
    "                arr.append(open_gains[i, p])\n",
    "                sold = True\n",
    "                break\n",
    "            elif high_gains[i, p] > sell_limit:\n",
    "                arr.append(high_gains[i, p] - fluct)\n",
    "                sold = True\n",
    "                break\n",
    "            elif low_gains[i, p] < stop_loss:\n",
    "                arr.append(stop_loss)\n",
    "                sold = True\n",
    "                break\n",
    "        if not sold:\n",
    "            arr.append(close_gains[i, -1])\n",
    "    return np.array(arr)\n",
    "\n",
    "def calculate_capital_gain(gains, capital=1):\n",
    "    original_capital = capital\n",
    "    for gain in gains:\n",
    "        capital *= 1 + gain\n",
    "    return capital / original_capital - 1"
   ]
  },
  {
   "cell_type": "code",
   "execution_count": 16,
   "metadata": {},
   "outputs": [],
   "source": [
    "stock = 'MSFT'\n",
    "d1 = DataLoader(stock).get_data('2019-01-01', '2020-12-31')\n",
    "d2 = DataLoader(stock).get_data('2021-01-01', '2021-12-31')"
   ]
  },
  {
   "cell_type": "code",
   "execution_count": 17,
   "metadata": {},
   "outputs": [
    {
     "name": "stdout",
     "output_type": "stream",
     "text": [
      " Period | Sell Limit % |  Stop Loss % | Capital Gain % \n",
      "      3 |         1.33 |        -0.91 |          37.37 \n",
      "      4 |         1.76 |        -1.09 |          47.60 \n",
      "      5 |         2.47 |        -1.23 |          26.28 \n",
      "      6 |         2.34 |        -1.60 |          56.45 \n",
      "      7 |         3.35 |        -1.07 |          29.07 \n",
      "      8 |         3.28 |        -1.67 |          21.66 \n",
      "      9 |         3.90 |        -1.52 |          14.71 \n",
      "     10 |         3.90 |        -1.54 |          15.79 \n",
      "     11 |         4.08 |        -2.18 |          56.35 \n",
      "     12 |         3.92 |        -2.50 |          35.99 \n",
      "     13 |         4.09 |        -2.52 |          17.39 \n",
      "     14 |         5.00 |        -2.15 |          28.58 \n",
      "     15 |         4.79 |        -2.84 |          30.99 \n",
      "     16 |         5.45 |        -2.53 |          15.49 \n",
      "     17 |         4.97 |        -3.23 |          31.25 \n",
      "     18 |         6.30 |        -2.15 |          22.38 \n",
      "     19 |         5.26 |        -2.91 |          34.59 \n",
      "     20 |         6.58 |        -2.63 |          15.75 \n"
     ]
    }
   ],
   "source": [
    "print(' Period | Sell Limit % |  Stop Loss % | Capital Gain % ')\n",
    "for i in range(3, 21):\n",
    "    sell_limit, stop_loss, fluct = get_values(d1, i)\n",
    "    gains = calculate_gains(d2, i, sell_limit, stop_loss, fluct)\n",
    "    capital_gain_percentage = calculate_capital_gain(gains)\n",
    "    print(' {:6d} | {:>12.2f} | {:>12.2f} | {:>14.2f} '.format(\n",
    "        i, sell_limit * 100, stop_loss * 100,\n",
    "        capital_gain_percentage * 100))\n"
   ]
  },
  {
   "cell_type": "code",
   "execution_count": null,
   "metadata": {},
   "outputs": [],
   "source": []
  }
 ],
 "metadata": {
  "interpreter": {
   "hash": "381790eac76a4074dff82f2b50f800dde9e4aec7e4db9cc2ec461915829060f9"
  },
  "kernelspec": {
   "display_name": "Python 3.9.7 64-bit ('.venv': venv)",
   "language": "python",
   "name": "python3"
  },
  "language_info": {
   "codemirror_mode": {
    "name": "ipython",
    "version": 3
   },
   "file_extension": ".py",
   "mimetype": "text/x-python",
   "name": "python",
   "nbconvert_exporter": "python",
   "pygments_lexer": "ipython3",
   "version": "3.9.7"
  },
  "orig_nbformat": 4
 },
 "nbformat": 4,
 "nbformat_minor": 2
}
