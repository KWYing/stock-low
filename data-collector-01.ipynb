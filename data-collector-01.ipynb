{
 "cells": [
  {
   "cell_type": "code",
   "execution_count": 1,
   "metadata": {},
   "outputs": [],
   "source": [
    "# Denpendances\n",
    "import numpy as np\n",
    "import pandas as pd\n",
    "from dLoader import DataLoader"
   ]
  },
  {
   "cell_type": "markdown",
   "metadata": {},
   "source": [
    "# Load Russell 2000 CSV"
   ]
  },
  {
   "cell_type": "code",
   "execution_count": 16,
   "metadata": {},
   "outputs": [],
   "source": [
    "r2000 = pd.read_csv('Russell2000.csv', header=0, index_col=0)"
   ]
  },
  {
   "cell_type": "code",
   "execution_count": 17,
   "metadata": {},
   "outputs": [
    {
     "data": {
      "text/html": [
       "<div>\n",
       "<style scoped>\n",
       "    .dataframe tbody tr th:only-of-type {\n",
       "        vertical-align: middle;\n",
       "    }\n",
       "\n",
       "    .dataframe tbody tr th {\n",
       "        vertical-align: top;\n",
       "    }\n",
       "\n",
       "    .dataframe thead th {\n",
       "        text-align: right;\n",
       "    }\n",
       "</style>\n",
       "<table border=\"1\" class=\"dataframe\">\n",
       "  <thead>\n",
       "    <tr style=\"text-align: right;\">\n",
       "      <th></th>\n",
       "      <th>Ticker</th>\n",
       "      <th>Company</th>\n",
       "      <th>Sector</th>\n",
       "      <th>Skipped</th>\n",
       "    </tr>\n",
       "  </thead>\n",
       "  <tbody>\n",
       "    <tr>\n",
       "      <th>0</th>\n",
       "      <td>AMC</td>\n",
       "      <td>AMC ENTERTAINMENT HOLDINGS INC CLA</td>\n",
       "      <td>Communication</td>\n",
       "      <td>False</td>\n",
       "    </tr>\n",
       "    <tr>\n",
       "      <th>1</th>\n",
       "      <td>OVV</td>\n",
       "      <td>OVINTIV INC</td>\n",
       "      <td>Energy</td>\n",
       "      <td>False</td>\n",
       "    </tr>\n",
       "    <tr>\n",
       "      <th>2</th>\n",
       "      <td>NTLA</td>\n",
       "      <td>INTELLIA THERAPEUTICS INC</td>\n",
       "      <td>Health Care</td>\n",
       "      <td>False</td>\n",
       "    </tr>\n",
       "    <tr>\n",
       "      <th>3</th>\n",
       "      <td>LSCC</td>\n",
       "      <td>LATTICE SEMICONDUCTOR CORP</td>\n",
       "      <td>Information Technology</td>\n",
       "      <td>False</td>\n",
       "    </tr>\n",
       "    <tr>\n",
       "      <th>4</th>\n",
       "      <td>TTEK</td>\n",
       "      <td>TETRA TECH INC</td>\n",
       "      <td>Industrials</td>\n",
       "      <td>False</td>\n",
       "    </tr>\n",
       "    <tr>\n",
       "      <th>...</th>\n",
       "      <td>...</td>\n",
       "      <td>...</td>\n",
       "      <td>...</td>\n",
       "      <td>...</td>\n",
       "    </tr>\n",
       "    <tr>\n",
       "      <th>2029</th>\n",
       "      <td>GBL</td>\n",
       "      <td>GAMCO INVESTORS INC</td>\n",
       "      <td>Financials</td>\n",
       "      <td>False</td>\n",
       "    </tr>\n",
       "    <tr>\n",
       "      <th>2030</th>\n",
       "      <td>PDLI</td>\n",
       "      <td>PDL BIOPHARMA INC</td>\n",
       "      <td>Health Care</td>\n",
       "      <td>True</td>\n",
       "    </tr>\n",
       "    <tr>\n",
       "      <th>2031</th>\n",
       "      <td>GTXI</td>\n",
       "      <td>GTXI INC - CVR</td>\n",
       "      <td>Health Care</td>\n",
       "      <td>True</td>\n",
       "    </tr>\n",
       "    <tr>\n",
       "      <th>2032</th>\n",
       "      <td>P5N994</td>\n",
       "      <td>Petrocorp Inc Escrow</td>\n",
       "      <td>Financials</td>\n",
       "      <td>True</td>\n",
       "    </tr>\n",
       "    <tr>\n",
       "      <th>2033</th>\n",
       "      <td>RTYZ1</td>\n",
       "      <td>RUSSELL 2000 EMINI CME DEC 21</td>\n",
       "      <td>Cash and/or Derivatives</td>\n",
       "      <td>True</td>\n",
       "    </tr>\n",
       "  </tbody>\n",
       "</table>\n",
       "<p>2034 rows × 4 columns</p>\n",
       "</div>"
      ],
      "text/plain": [
       "      Ticker                             Company                   Sector  \\\n",
       "0        AMC  AMC ENTERTAINMENT HOLDINGS INC CLA            Communication   \n",
       "1        OVV                         OVINTIV INC                   Energy   \n",
       "2       NTLA           INTELLIA THERAPEUTICS INC              Health Care   \n",
       "3       LSCC          LATTICE SEMICONDUCTOR CORP   Information Technology   \n",
       "4       TTEK                      TETRA TECH INC              Industrials   \n",
       "...      ...                                 ...                      ...   \n",
       "2029     GBL                 GAMCO INVESTORS INC               Financials   \n",
       "2030    PDLI                   PDL BIOPHARMA INC              Health Care   \n",
       "2031    GTXI                      GTXI INC - CVR              Health Care   \n",
       "2032  P5N994                Petrocorp Inc Escrow               Financials   \n",
       "2033   RTYZ1       RUSSELL 2000 EMINI CME DEC 21  Cash and/or Derivatives   \n",
       "\n",
       "      Skipped  \n",
       "0       False  \n",
       "1       False  \n",
       "2       False  \n",
       "3       False  \n",
       "4       False  \n",
       "...       ...  \n",
       "2029    False  \n",
       "2030     True  \n",
       "2031     True  \n",
       "2032     True  \n",
       "2033     True  \n",
       "\n",
       "[2034 rows x 4 columns]"
      ]
     },
     "execution_count": 17,
     "metadata": {},
     "output_type": "execute_result"
    }
   ],
   "source": [
    "r2000"
   ]
  },
  {
   "cell_type": "markdown",
   "metadata": {},
   "source": [
    "# Download Data"
   ]
  },
  {
   "cell_type": "code",
   "execution_count": 18,
   "metadata": {},
   "outputs": [],
   "source": [
    "tickers = np.array(r2000['Ticker'])\n",
    "done = []\n",
    "skip = r2000['Ticker'][r2000['Skipped']].to_list()"
   ]
  },
  {
   "cell_type": "code",
   "execution_count": 19,
   "metadata": {},
   "outputs": [],
   "source": [
    "import time\n",
    "\n",
    "while True:    \n",
    "    wait = False\n",
    "\n",
    "    db = os.path.abspath('Database')\n",
    "    for ticker in tickers:\n",
    "        if ticker in done or ticker in skip:\n",
    "            continue\n",
    "        elif os.path.exists(os.path.join(db, ticker + '.csv')):\n",
    "            done.append(ticker)\n",
    "            continue\n",
    "        \n",
    "        print('Downloading...', end='')\n",
    "        try:\n",
    "            DataLoader(ticker)\n",
    "            if os.path.exists(os.path.join(db, ticker + '.csv')):\n",
    "                print(ticker, 'Download finish!')\n",
    "            done.append(ticker)\n",
    "        except Exception as e:\n",
    "            if 'Unauthorized' in str(e):\n",
    "                wait = True\n",
    "                print(ticker, e)\n",
    "                break\n",
    "            else:\n",
    "                skip.append(ticker)\n",
    "                print(ticker, e)\n",
    "    \n",
    "    if wait:\n",
    "        time.sleep(60*3)\n",
    "    else:\n",
    "        break"
   ]
  },
  {
   "cell_type": "markdown",
   "metadata": {},
   "source": [
    "### Save modify Russell  2000 DataFrame to csv"
   ]
  },
  {
   "cell_type": "code",
   "execution_count": 8,
   "metadata": {},
   "outputs": [],
   "source": [
    "r2000['Skipped'] = np.isin(r2000['Ticker'], skip)"
   ]
  },
  {
   "cell_type": "code",
   "execution_count": 9,
   "metadata": {},
   "outputs": [],
   "source": [
    "# r2000.to_csv('Russell2000.csv')"
   ]
  },
  {
   "cell_type": "markdown",
   "metadata": {},
   "source": [
    "# Create leverage and risk data"
   ]
  },
  {
   "cell_type": "code",
   "execution_count": 10,
   "metadata": {},
   "outputs": [],
   "source": [
    "# Generating gain and loss percentage data\n",
    "def clip_dataframe(df, p):\n",
    "    # Batching for test data\n",
    "    batches = len(df) // p\n",
    "    max_length = batches * p\n",
    "    return df.iloc[-max_length:].copy()\n",
    "\n",
    "def simple_gain_loss(data, period):\n",
    "    # Get gain and loss values base on start of period and\n",
    "    # end of period prices\n",
    "    ndf = clip_dataframe(data, period)\n",
    "    # Base period prices\n",
    "    base = np.array(ndf['Close']).reshape(-1, period)[:, 0]\n",
    "    # Shifting one day to avoid the end period price is the\n",
    "    # base price price\n",
    "    shifted = ndf.shift(-1).fillna(method='ffill')\n",
    "    target = np.array(shifted['Close']).reshape(-1, period)\n",
    "    # Calculate gain and loss price array\n",
    "    gain = target.max(1) / base - 1\n",
    "    loss = target.min(1) / base - 1\n",
    "    return gain.mean(), loss.mean()\n",
    "\n",
    "def average_daily_fluctuation(data, minute=30):\n",
    "    # Calculate an average daily fluctuation percentage value\n",
    "    hl = data['High'] / data['Low'] - 1\n",
    "    minutes = 7.5 * (60 / minute)\n",
    "    return hl.mean() / minutes\n",
    "\n",
    "def get_values(data, period, minute=30):\n",
    "    # Getting values of sell limit, stop loss and fluctuation percentage\n",
    "    sell_limit, stop_loss = simple_gain_loss(data, period)\n",
    "    fluct = average_daily_fluctuation(data, minute)\n",
    "    return sell_limit, stop_loss, fluct"
   ]
  },
  {
   "cell_type": "code",
   "execution_count": 11,
   "metadata": {},
   "outputs": [],
   "source": [
    "# Static back test\n",
    "def not_so_simple_gain_loss(data, period):\n",
    "    ndf = clip_dataframe(data, period)\n",
    "    # Base\n",
    "    base = np.array(ndf['Close']).reshape(-1, period)[:, 0]\n",
    "    # Expanding dimension\n",
    "    base = np.expand_dims(base, 1)\n",
    "    ndf = clip_dataframe(data, period)\n",
    "    # base\n",
    "    base = np.array(ndf['Close']).reshape(-1, period)[:, 0]\n",
    "    base = np.expand_dims(base, 1)\n",
    "    # shifted\n",
    "    shift = ndf.shift(-1).fillna(method='ffill')\n",
    "    # High\n",
    "    high = np.array(shift['High']).reshape(-1, period)\n",
    "    # Low\n",
    "    low = np.array(shift['Low']).reshape(-1, period)\n",
    "    # Open\n",
    "    Open = np.array(shift['Open']).reshape(-1, period)\n",
    "    # Close\n",
    "    close = np.array(shift['Close']).reshape(-1, period)\n",
    "    # Gaining percentage\n",
    "    high_gains = high / base - 1\n",
    "    low_gains = low / base - 1\n",
    "    close_gains = close / base - 1\n",
    "    open_gains = Open / base - 1\n",
    "    return open_gains, high_gains, low_gains, close_gains, base.reshape(-1)\n",
    "\n",
    "def calculate_gains(data, period, sell_limit, stop_loss, fluct):\n",
    "    open_gains, high_gains, low_gains, close_gains, base = not_so_simple_gain_loss(data, period)\n",
    "    # Getting gained percentage \n",
    "    length = len(open_gains)\n",
    "    arr = []\n",
    "    for i in range(length):\n",
    "        sold = False\n",
    "        for p in range(period):\n",
    "            # Main stategy\n",
    "            if open_gains[i, p] < stop_loss:\n",
    "                arr.append(open_gains[i, p])\n",
    "                sold = True\n",
    "                break\n",
    "            elif high_gains[i, p] > sell_limit:\n",
    "                arr.append(high_gains[i, p] - fluct)\n",
    "                sold = True\n",
    "                break\n",
    "            elif low_gains[i, p] < stop_loss:\n",
    "                arr.append(stop_loss)\n",
    "                sold = True\n",
    "                break\n",
    "        if not sold:\n",
    "            arr.append(close_gains[i, -1])\n",
    "    return base, np.array(arr)\n",
    "\n",
    "def calculate_capital_gain(base, gains, capital=1000, max_share=1000):\n",
    "    if base[0] > capital:\n",
    "        capital = base[0] * 10\n",
    "    original_capital = capital\n",
    "    length = len(base)\n",
    "    for i in range(length):\n",
    "        gain = base[i] * gains[i]\n",
    "        share = capital // base[i]\n",
    "        if share > max_share:\n",
    "            share = max_share\n",
    "        capital += gain * share\n",
    "    return capital / original_capital - 1\n",
    "\n",
    "def check_for_update(ticker, days=30):\n",
    "    m = pd.Timestamp.now().date() - pd.Timedelta(days=30)\n",
    "    # Check if csv file need to be updated\n",
    "    df = pd.read_csv(os.path.join(db, ticker + '.csv'), index_col=0)\n",
    "    if pd.to_datetime(df.index[-1]).date() <= m:\n",
    "        del df\n",
    "        DataLoader(ticker).update_database()\n",
    "        print(ticker, 'updated!')"
   ]
  },
  {
   "cell_type": "code",
   "execution_count": 12,
   "metadata": {},
   "outputs": [
    {
     "data": {
      "text/plain": [
       "1747"
      ]
     },
     "execution_count": 12,
     "metadata": {},
     "output_type": "execute_result"
    }
   ],
   "source": [
    "# Get stock symbol in Database\n",
    "import os\n",
    "folder = os.path.abspath('Database')\n",
    "files = os.listdir(folder)\n",
    "symbols = [f.split('.')[0] for f in files]\n",
    "symbols = sorted(symbols)\n",
    "len(symbols)"
   ]
  },
  {
   "cell_type": "code",
   "execution_count": null,
   "metadata": {},
   "outputs": [],
   "source": []
  }
 ],
 "metadata": {
  "interpreter": {
   "hash": "381790eac76a4074dff82f2b50f800dde9e4aec7e4db9cc2ec461915829060f9"
  },
  "kernelspec": {
   "display_name": "Python 3.9.7 64-bit ('.venv': venv)",
   "language": "python",
   "name": "python3"
  },
  "language_info": {
   "codemirror_mode": {
    "name": "ipython",
    "version": 3
   },
   "file_extension": ".py",
   "mimetype": "text/x-python",
   "name": "python",
   "nbconvert_exporter": "python",
   "pygments_lexer": "ipython3",
   "version": "3.9.7"
  },
  "orig_nbformat": 4
 },
 "nbformat": 4,
 "nbformat_minor": 2
}
