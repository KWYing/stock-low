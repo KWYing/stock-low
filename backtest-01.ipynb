{
 "cells": [
  {
   "cell_type": "code",
   "execution_count": 1,
   "metadata": {},
   "outputs": [],
   "source": [
    "# Installing dependencies\n",
    "import numpy as np\n",
    "import pandas as pd\n",
    "from yfQuery import datareader"
   ]
  },
  {
   "cell_type": "markdown",
   "metadata": {},
   "source": [
    "# Custom Class"
   ]
  },
  {
   "cell_type": "code",
   "execution_count": 2,
   "metadata": {},
   "outputs": [],
   "source": [
    "class DataLoader:\n",
    "    '''\n",
    "        Class for loading past stocks prices\n",
    "        symbol: symbol can be either a single symbol or \n",
    "                a list of symbol\n",
    "        start:  start date\n",
    "        end:    end date\n",
    "    '''\n",
    "    def __init__(self, symbol, start, end):\n",
    "        # Preload\n",
    "        self.data = datareader(symbol, start, end)\n",
    "    \n",
    "    def get(self, start, end):\n",
    "        # Return a period of the data\n",
    "        return self.data.iloc[start: end]"
   ]
  },
  {
   "cell_type": "code",
   "execution_count": 3,
   "metadata": {},
   "outputs": [],
   "source": [
    "class BuySell:\n",
    "    def __init__(self, capital=None, max_share=None):\n",
    "        self.original_capital = capital\n",
    "        self.capital = capital\n",
    "        self.max_share = max_share\n",
    "        self.share = 0\n",
    "        self.is_holding = False\n",
    "        self.buy_at = 0\n",
    "        # Array for dollar gain per trade \n",
    "        self.dollar_gain = []\n",
    "        # Array for percentage gain per trade\n",
    "        self.pct_gain = []\n",
    "    \n",
    "    def buy(self, price):\n",
    "        # Buy Action\n",
    "        self.buy_at = price\n",
    "        self.is_holding = True\n",
    "        # Buy Power with capital\n",
    "        if self.capital is not None:\n",
    "            self.share = self.capital // self.buy_at\n",
    "            if self.max_share is not None and self.share > self.max_share:\n",
    "                self.share = self.max_share\n",
    "            self.capital -= np.round(self.buy_at * self.share, 2)\n",
    "    \n",
    "    def sell(self, price):\n",
    "        # Sell Action\n",
    "        self.calculate_gain(price)\n",
    "        if self.capital is not None:\n",
    "            self.capital += np.round(price * self.share)\n",
    "            self.share = 0\n",
    "        self.buy_at = 0\n",
    "        self.is_holding = False\n",
    "    \n",
    "    def calculate_gain(self, price):\n",
    "        dollar_gain = price - self.buy_at\n",
    "        pct_gain = price / self.buy_at - 1\n",
    "        self.dollar_gain.append(dollar_gain)\n",
    "        self.pct_gain.append(pct_gain)\n",
    "    \n",
    "    def show_results(self):\n",
    "        self.results = self.result_Series()\n",
    "        print('Average gain of ${:.2f} per share after {} trades'.format(self.results['Total-Dollar-Gain'], \n",
    "                                                                self.results['Num-Trades']))\n",
    "        print('and have average gain percentage of {:.2f}%'.format(self.results['Total-Percentage-Gain'] * 100))\n",
    "        print('Has a {:.2f}% of good trades'.format(self.results['Percentage-of-Good-Trades'] * 100))\n",
    "        if self.capital is not None:\n",
    "            print('Test Ending Capital: ${:.2f} base on original capital of ${:.2f}'.format(self.capital, self.original_capital))\n",
    "            print('With {:.2f}% Capital Gain'.format(self.results['Percentage-Capital-Gain'] * 100))\n",
    "\n",
    "    def result_Series(self):\n",
    "        index = ['Num-Trades', 'Total-Dollar-Gain', 'Total-Percentage-Gain', \n",
    "                 'Percentage-of-Good-Trades','Percentage-Capital-Gain']\n",
    "        num_trades = len(self.dollar_gain)\n",
    "        total_dollar_gain = np.mean(self.dollar_gain)\n",
    "        total_pct_gain = np.mean(self.pct_gain)\n",
    "        pct_good_trades = (np.array(self.dollar_gain) > 0).sum() / num_trades\n",
    "        array = [num_trades, total_dollar_gain, total_pct_gain, pct_good_trades]\n",
    "        if self.capital is not None:\n",
    "            capital_gain = self.capital / self.original_capital - 1\n",
    "            array.append(capital_gain)\n",
    "            return pd.Series(array, index=index)\n",
    "        return pd.Series(array, index=index[:-1])\n",
    "        "
   ]
  },
  {
   "cell_type": "markdown",
   "metadata": {},
   "source": [
    "# Back Testing"
   ]
  },
  {
   "cell_type": "code",
   "execution_count": 4,
   "metadata": {},
   "outputs": [],
   "source": [
    "d = DataLoader('AAPL', '2018-01-01', '2019-12-31')\n",
    "prices = d.data[['Close', 'Low', 'High']]"
   ]
  },
  {
   "cell_type": "code",
   "execution_count": 5,
   "metadata": {},
   "outputs": [],
   "source": [
    "# MA Crossing or Conditional for possible buy\n",
    "a, b = 3, 6\n",
    "fast_ma = prices['Close'].rolling(a).mean()\n",
    "slow_ma = prices['Low'].rolling(b).mean()\n",
    "above = fast_ma > slow_ma\n",
    "data = pd.concat([fast_ma, slow_ma, above], axis=1)\n",
    "data.columns = ['fast_ma', 'slow_ma', 'above']\n",
    "data = pd.concat([prices, data], axis=1)\n",
    "data = data.dropna()"
   ]
  },
  {
   "cell_type": "code",
   "execution_count": 6,
   "metadata": {},
   "outputs": [
    {
     "data": {
      "text/plain": [
       "0.022714116376167097"
      ]
     },
     "execution_count": 6,
     "metadata": {},
     "output_type": "execute_result"
    }
   ],
   "source": [
    "# Price Prediction\n",
    "# Using the simple rolling return of buy low sell high to predict a good sell percentage\n",
    "rolled_low = data['Low'].shift(a)\n",
    "pct = data['High'] / rolled_low - 1\n",
    "avg_pct = pct.mean()\n",
    "avg_pct"
   ]
  },
  {
   "cell_type": "code",
   "execution_count": 7,
   "metadata": {},
   "outputs": [],
   "source": [
    "rolled_high = data['High'].shift(a)\n",
    "# Adjusted High is like a padding for first requirement of a good buy price\n",
    "adjusted_high = rolled_high * (1. - avg_pct) \n",
    "# Current Low Price against Adjusted High Price to get a percent different\n",
    "pricing = data['Low'] / adjusted_high - 1\n",
    "# Check if the percent different is lesser than the avg_pct\n",
    "# which would result in a good buy of the Low price\n",
    "data['Good-Buy'] = pricing <= avg_pct\n",
    "data = data.dropna()"
   ]
  },
  {
   "cell_type": "code",
   "execution_count": 8,
   "metadata": {},
   "outputs": [],
   "source": [
    "length = len(data)\n",
    "bs = BuySell(capital=1000, max_share=1000)\n",
    "\n",
    "for i in range(length):\n",
    "    if i == 0:\n",
    "        continue\n",
    "    is_above = data['above'].iloc[i - 1]\n",
    "    is_good_buy = data['Good-Buy'].iloc[i]\n",
    "    buying_price = data['Low'].iloc[i]\n",
    "    selling_pirce = data['Close'].iloc[i]\n",
    "    high = data['High'].iloc[i]\n",
    "    if i + 1 == length:\n",
    "        if bs.is_holding:\n",
    "            bs.sell(selling_pirce)\n",
    "    else:\n",
    "        if not bs.is_holding:\n",
    "            if is_above and is_good_buy:\n",
    "                bs.buy(buying_price)\n",
    "        else:\n",
    "            pct = high / bs.buy_at - 1\n",
    "            good_sell = pct >= avg_pct\n",
    "            if not is_above or good_sell:\n",
    "                if good_sell:\n",
    "                    bs.sell(high)\n",
    "                else:\n",
    "                    bs.sell(selling_pirce)\n"
   ]
  },
  {
   "cell_type": "code",
   "execution_count": 9,
   "metadata": {},
   "outputs": [
    {
     "name": "stdout",
     "output_type": "stream",
     "text": [
      "Average gain of $1.00 per share after 79.0 trades\n",
      "and have average gain percentage of 1.99%\n",
      "Has a 79.75% of good trades\n",
      "Test Ending Capital: $4483.29 base on original capital of $1000.00\n",
      "With 348.33% Capital Gain\n"
     ]
    }
   ],
   "source": [
    "bs.show_results()"
   ]
  },
  {
   "cell_type": "code",
   "execution_count": 10,
   "metadata": {},
   "outputs": [
    {
     "name": "stdout",
     "output_type": "stream",
     "text": [
      "Average days per trade: 6.30\n",
      "Stock's momemtum: 0.68\n"
     ]
    }
   ],
   "source": [
    "avg_days_per_trade = length / bs.results['Num-Trades']\n",
    "stock_momentum = data['Close'].iloc[-1] / data['Close'].iloc[0] - 1\n",
    "print('Average days per trade: {:.2f}'.format(avg_days_per_trade))\n",
    "print(\"Stock's momemtum: {:.2f}\".format(stock_momentum))"
   ]
  },
  {
   "cell_type": "markdown",
   "metadata": {},
   "source": [
    "# Testing without updating the Percentage Gain Mean"
   ]
  },
  {
   "cell_type": "code",
   "execution_count": 23,
   "metadata": {},
   "outputs": [],
   "source": [
    "d = DataLoader('AAPL', '2020-01-01', '2020-12-31')\n",
    "prices = d.data[['Close', 'Low', 'High']]"
   ]
  },
  {
   "cell_type": "code",
   "execution_count": 24,
   "metadata": {},
   "outputs": [],
   "source": [
    "# MA Crossing or Conditional for possible buy\n",
    "a, b = 3, 6\n",
    "fast_ma = prices['Close'].rolling(a).mean()\n",
    "slow_ma = prices['Low'].rolling(b).mean()\n",
    "above = fast_ma > slow_ma\n",
    "data = pd.concat([fast_ma, slow_ma, above], axis=1)\n",
    "data.columns = ['fast_ma', 'slow_ma', 'above']\n",
    "data = pd.concat([prices, data], axis=1)\n",
    "data = data.dropna()"
   ]
  },
  {
   "cell_type": "code",
   "execution_count": 25,
   "metadata": {},
   "outputs": [],
   "source": [
    "rolled_high = data['High'].shift(a)\n",
    "# Adjusted High is like a padding for first requirement of a good buy price\n",
    "adjusted_high = rolled_high * (1. - avg_pct) \n",
    "# Current Low Price against Adjusted High Price to get a percent different\n",
    "pricing = data['Low'] / adjusted_high - 1\n",
    "# Check if the percent different is lesser than the avg_pct\n",
    "# which would result in a good buy of the Low price\n",
    "data['Good-Buy'] = pricing <= avg_pct\n",
    "data = data.dropna()"
   ]
  },
  {
   "cell_type": "code",
   "execution_count": 26,
   "metadata": {},
   "outputs": [],
   "source": [
    "length = len(data)\n",
    "bs = BuySell(capital=1000, max_share=1000)\n",
    "\n",
    "for i in range(length):\n",
    "    if i == 0:\n",
    "        continue\n",
    "    is_above = data['above'].iloc[i - 1]\n",
    "    is_good_buy = data['Good-Buy'].iloc[i]\n",
    "    buying_price = data['Low'].iloc[i]\n",
    "    selling_pirce = data['Close'].iloc[i]\n",
    "    high = data['High'].iloc[i]\n",
    "    if i + 1 == length:\n",
    "        if bs.is_holding:\n",
    "            bs.sell(selling_pirce)\n",
    "    else:\n",
    "        if not bs.is_holding:\n",
    "            if is_above and is_good_buy:\n",
    "                bs.buy(buying_price)\n",
    "        else:\n",
    "            pct = high / bs.buy_at - 1\n",
    "            good_sell = pct >= avg_pct\n",
    "            if not is_above or good_sell:\n",
    "                if good_sell:\n",
    "                    bs.sell(high)\n",
    "                else:\n",
    "                    bs.sell(selling_pirce)"
   ]
  },
  {
   "cell_type": "code",
   "execution_count": 27,
   "metadata": {},
   "outputs": [
    {
     "name": "stdout",
     "output_type": "stream",
     "text": [
      "Average gain of $3.16 per share after 58.0 trades\n",
      "and have average gain percentage of 3.40%\n",
      "Has a 87.93% of good trades\n",
      "Test Ending Capital: $6460.41 base on original capital of $1000.00\n",
      "With 546.04% Capital Gain\n"
     ]
    }
   ],
   "source": [
    "bs.show_results()"
   ]
  },
  {
   "cell_type": "code",
   "execution_count": 28,
   "metadata": {},
   "outputs": [
    {
     "name": "stdout",
     "output_type": "stream",
     "text": [
      "Average days per trade: 4.28\n",
      "Stock's momemtum: 0.71\n"
     ]
    }
   ],
   "source": [
    "avg_days_per_trade = length / bs.results['Num-Trades']\n",
    "stock_momentum = data['Close'].iloc[-1] / data['Close'].iloc[0] - 1\n",
    "print('Average days per trade: {:.2f}'.format(avg_days_per_trade))\n",
    "print(\"Stock's momemtum: {:.2f}\".format(stock_momentum))"
   ]
  },
  {
   "cell_type": "code",
   "execution_count": null,
   "metadata": {},
   "outputs": [],
   "source": []
  }
 ],
 "metadata": {
  "interpreter": {
   "hash": "381790eac76a4074dff82f2b50f800dde9e4aec7e4db9cc2ec461915829060f9"
  },
  "kernelspec": {
   "display_name": "Python 3.9.5 64-bit ('.venv': venv)",
   "language": "python",
   "name": "python3"
  },
  "language_info": {
   "codemirror_mode": {
    "name": "ipython",
    "version": 3
   },
   "file_extension": ".py",
   "mimetype": "text/x-python",
   "name": "python",
   "nbconvert_exporter": "python",
   "pygments_lexer": "ipython3",
   "version": "3.9.5"
  },
  "orig_nbformat": 4
 },
 "nbformat": 4,
 "nbformat_minor": 2
}
