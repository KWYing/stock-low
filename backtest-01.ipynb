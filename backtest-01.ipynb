{
 "cells": [
  {
   "cell_type": "code",
   "execution_count": 1,
   "metadata": {},
   "outputs": [],
   "source": [
    "# Installing dependencies\n",
    "import numpy as np\n",
    "import pandas as pd\n",
    "from yfQuery import datareader"
   ]
  },
  {
   "cell_type": "code",
   "execution_count": 1,
   "metadata": {},
   "outputs": [],
   "source": [
    "class DataLoader:\n",
    "    '''\n",
    "        Class for loading past stocks prices\n",
    "        symbol: symbol can be either a single symbol or \n",
    "                a list of symbol\n",
    "        start:  start date\n",
    "        end:    end date\n",
    "    '''\n",
    "    def __init__(self, symbol, start, end):\n",
    "        # Preload\n",
    "        self.data = datareader(symbol, start, end)\n",
    "    \n",
    "    def get(self, start, end):\n",
    "        # Return a period of the data\n",
    "        return self.data.iloc[start: end]"
   ]
  },
  {
   "cell_type": "code",
   "execution_count": null,
   "metadata": {},
   "outputs": [],
   "source": []
  }
 ],
 "metadata": {
  "interpreter": {
   "hash": "381790eac76a4074dff82f2b50f800dde9e4aec7e4db9cc2ec461915829060f9"
  },
  "kernelspec": {
   "display_name": "Python 3.9.5 64-bit ('.venv': venv)",
   "language": "python",
   "name": "python3"
  },
  "language_info": {
   "codemirror_mode": {
    "name": "ipython",
    "version": 3
   },
   "file_extension": ".py",
   "mimetype": "text/x-python",
   "name": "python",
   "nbconvert_exporter": "python",
   "pygments_lexer": "ipython3",
   "version": "3.9.5"
  },
  "orig_nbformat": 4
 },
 "nbformat": 4,
 "nbformat_minor": 2
}
