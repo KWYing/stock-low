{
 "cells": [
  {
   "cell_type": "code",
   "execution_count": 1,
   "metadata": {},
   "outputs": [],
   "source": [
    "# Installing dependencies\n",
    "import numpy as np\n",
    "import pandas as pd\n",
    "from yfQuery import datareader"
   ]
  },
  {
   "cell_type": "code",
   "execution_count": 2,
   "metadata": {},
   "outputs": [],
   "source": [
    "class DataLoader:\n",
    "    '''\n",
    "        Class for loading past stocks prices\n",
    "        symbol: symbol can be either a single symbol or \n",
    "                a list of symbol\n",
    "        start:  start date\n",
    "        end:    end date\n",
    "    '''\n",
    "    def __init__(self, symbol, start, end):\n",
    "        # Preload\n",
    "        self.data = datareader(symbol, start, end)\n",
    "    \n",
    "    def get(self, start, end):\n",
    "        # Return a period of the data\n",
    "        return self.data.iloc[start: end]"
   ]
  },
  {
   "cell_type": "code",
   "execution_count": 3,
   "metadata": {},
   "outputs": [],
   "source": [
    "class BuySell:\n",
    "    def __init__(self, capital=None, max_share=None):\n",
    "        self.original_capital = capital\n",
    "        self.capital = capital\n",
    "        self.max_share = max_share\n",
    "        self.share = 0\n",
    "        self.is_holding = False\n",
    "        self.buy_at = 0\n",
    "        # Array for dollar gain per trade \n",
    "        self.dollar_gain = []\n",
    "        # Array for percentage gain per trade\n",
    "        self.pct_gain = []\n",
    "        # Array for Buy / Sell price\n",
    "        self.stat = []\n",
    "    \n",
    "    def buy(self, price):\n",
    "        # Buy Action\n",
    "        self.stat.append([price, np.nan])\n",
    "        self.buy_at = price\n",
    "        self.is_holding = True\n",
    "        # Buy Power with capital\n",
    "        if self.capital is not None:\n",
    "            self.share = self.capital // self.buy_at\n",
    "            if self.max_share is not None and self.share > self.max_share:\n",
    "                self.share = self.max_share\n",
    "            self.capital -= np.round(self.buy_at * self.share, 2)\n",
    "    \n",
    "    def sell(self, price):\n",
    "        # Sell Action\n",
    "        self.calculate_gain(price)\n",
    "        self.stat.append([np.nan, price])\n",
    "        if self.capital is not None:\n",
    "            self.capital += np.round(price * self.share)\n",
    "            self.share = 0\n",
    "        self.buy_at = 0\n",
    "        self.is_holding = False\n",
    "    \n",
    "    def no_action(self):\n",
    "        self.stat.append([np.nan, np.nan])\n",
    "    \n",
    "    def calculate_gain(self, price):\n",
    "        dollar_gain = price - self.buy_at\n",
    "        pct_gain = price / self.buy_at - 1\n",
    "        self.dollar_gain.append(dollar_gain)\n",
    "        self.pct_gain.append(pct_gain)\n",
    "    \n",
    "    def show_results(self):\n",
    "        self.results = self.result_Series()\n",
    "        print('${:.2f} gained per share after {} trades'.format(self.results['Total-Dollar-Gain'], \n",
    "                                                                self.results['Num-Trades']))\n",
    "        print('and have a total gain percentage of {:.2f}%'.format(self.results['Total-Percentage-Gain'] * 100))\n",
    "        if self.capital is not None:\n",
    "            print('Test Ending Capital: ${:.2f} base on original capital of ${:.2f}'.format(self.capital, self.original_capital))\n",
    "            print('With {:.2f}% Capital Gain'.format(self.results['Percentage-Capital-Gain'] * 100))\n",
    "\n",
    "    def result_Series(self):\n",
    "        index = ['Num-Trades', 'Total-Dollar-Gain', 'Total-Percentage-Gain', 'Percentage-Capital-Gain']\n",
    "        num_trades = len(self.dollar_gain)\n",
    "        total_dollar_gain = sum(self.dollar_gain)\n",
    "        total_pct_gain = sum(self.pct_gain)\n",
    "        array = [num_trades, total_dollar_gain, total_pct_gain]\n",
    "        if self.capital is not None:\n",
    "            capital_gain = self.capital / self.original_capital - 1\n",
    "            array.append(capital_gain)\n",
    "            return pd.Series(array, index=index)\n",
    "        return pd.Series(array, index=index[:-1])\n",
    "        "
   ]
  },
  {
   "cell_type": "code",
   "execution_count": 63,
   "metadata": {},
   "outputs": [],
   "source": [
    "d = DataLoader('AAPL', '2018-01-01', '2019-12-31')\n",
    "prices = d.data[['Close', 'Low', 'High']]"
   ]
  },
  {
   "cell_type": "code",
   "execution_count": 64,
   "metadata": {},
   "outputs": [],
   "source": [
    "# MA Crossing\n",
    "a, b = 3, 6\n",
    "fast_ma = prices['Close'].rolling(a).mean()\n",
    "slow_ma = prices['Low'].rolling(b).mean()\n",
    "above = (fast_ma > slow_ma) & (prices['Low'] > slow_ma)\n",
    "data = pd.concat([fast_ma, slow_ma, above], axis=1)\n",
    "data.columns = ['fast_ma', 'slow_ma', 'above']\n",
    "data = pd.concat([prices, data], axis=1)\n",
    "data = data.dropna()"
   ]
  },
  {
   "cell_type": "code",
   "execution_count": 65,
   "metadata": {},
   "outputs": [],
   "source": [
    "length = len(data)\n",
    "bs = BuySell(capital=1000, max_share=1000)\n",
    "\n",
    "for i in range(length):\n",
    "    if i == 0:\n",
    "        bs.no_action()\n",
    "        continue\n",
    "    is_above = data['above'].iloc[i - 1]\n",
    "    buying_price = data['Low'].iloc[i]\n",
    "    selling_pirce = data['Close'].iloc[i]\n",
    "    if i + 1 == length:\n",
    "        if bs.is_holding:\n",
    "            bs.sell(selling_pirce)\n",
    "    else:\n",
    "        if not bs.is_holding:\n",
    "            if is_above:\n",
    "                bs.buy(buying_price)\n",
    "            else:\n",
    "                bs.no_action()\n",
    "        else:\n",
    "            if not is_above:\n",
    "                bs.sell(selling_pirce)\n",
    "            else:\n",
    "                bs.no_action()\n"
   ]
  },
  {
   "cell_type": "code",
   "execution_count": 66,
   "metadata": {},
   "outputs": [
    {
     "name": "stdout",
     "output_type": "stream",
     "text": [
      "$43.67 gained per share after 53.0 trades\n",
      "and have a total gain percentage of 89.17%\n",
      "Test Ending Capital: $2296.33 base on original capital of $1000.00\n",
      "With 129.63% Capital Gain\n"
     ]
    }
   ],
   "source": [
    "bs.show_results()"
   ]
  },
  {
   "cell_type": "code",
   "execution_count": null,
   "metadata": {},
   "outputs": [],
   "source": []
  }
 ],
 "metadata": {
  "interpreter": {
   "hash": "381790eac76a4074dff82f2b50f800dde9e4aec7e4db9cc2ec461915829060f9"
  },
  "kernelspec": {
   "display_name": "Python 3.9.5 64-bit ('.venv': venv)",
   "language": "python",
   "name": "python3"
  },
  "language_info": {
   "codemirror_mode": {
    "name": "ipython",
    "version": 3
   },
   "file_extension": ".py",
   "mimetype": "text/x-python",
   "name": "python",
   "nbconvert_exporter": "python",
   "pygments_lexer": "ipython3",
   "version": "3.9.5"
  },
  "orig_nbformat": 4
 },
 "nbformat": 4,
 "nbformat_minor": 2
}
