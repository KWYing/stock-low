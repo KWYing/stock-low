{
 "cells": [
  {
   "cell_type": "code",
   "execution_count": 1,
   "metadata": {},
   "outputs": [
    {
     "name": "stderr",
     "output_type": "stream",
     "text": [
      "INFO:generated new fontManager\n"
     ]
    }
   ],
   "source": [
    "import numpy as np\n",
    "import pandas as pd\n",
    "from dLoader import DataLoader\n",
    "from dLoader.utils import regroup\n",
    "import matplotlib.pyplot as plt"
   ]
  },
  {
   "cell_type": "code",
   "execution_count": 2,
   "metadata": {},
   "outputs": [],
   "source": [
    "def get_dates(start, end):\n",
    "    cols = ['Monday', 'Tuesday', 'Wednesday', 'Thursday', 'Friday']\n",
    "    dates = pd.concat([pd.Series(pd.date_range(start, end, freq=\"W-MON\")) + pd.DateOffset(i) \\\n",
    "                       for i in range(len(cols))], axis=1)\n",
    "    dates.columns = cols\n",
    "    return dates\n",
    "\n",
    "def get_prices_by_DOW(df, dates, indicator='Close'):\n",
    "    prices = dates.copy()\n",
    "    for col in dates.columns:\n",
    "        price = df.loc[df.index.isin(dates[col])][indicator]\n",
    "        mask = prices[col].isin(price.index)\n",
    "        prices.loc[mask, col] = price.values\n",
    "        prices.loc[~mask, col] = np.nan\n",
    "    return prices"
   ]
  },
  {
   "cell_type": "code",
   "execution_count": 3,
   "metadata": {},
   "outputs": [],
   "source": [
    "def PivotPoints(data):\n",
    "    p = data.loc[:, ['High', 'Low', 'Close']].mean(1)\n",
    "    d = data['High'] - data['Low']\n",
    "    r1 = (p * 2) - data['Low']\n",
    "    r2 = p + d\n",
    "    s1 = (p * 2) - data['High']\n",
    "    s2 = p - d\n",
    "    df = pd.concat([s2, s1, p, r1, r2], axis=1)\n",
    "    df.columns = ['Support2', 'Support1', 'Pivot', 'Resistance1', 'Resistance2']\n",
    "    return df"
   ]
  },
  {
   "cell_type": "code",
   "execution_count": 5,
   "metadata": {},
   "outputs": [
    {
     "name": "stdout",
     "output_type": "stream",
     "text": [
      "There are 253 tickers match the search.\n"
     ]
    }
   ],
   "source": [
    "stocks_data = pd.read_json('Database/keeper.json', orient='index')\n",
    "search_mask = stocks_data['Latest Price'].between(0, 10) & (stocks_data['Length in Database'] > (250 * 6))\n",
    "tickers = stocks_data[search_mask].index.to_list()\n",
    "print('There are {} tickers match the search.'.format(len(tickers)))"
   ]
  },
  {
   "cell_type": "code",
   "execution_count": 2,
   "metadata": {},
   "outputs": [],
   "source": [
    "data = DataLoader('AMD').get_data('2018-01-01', '2018-03-31')"
   ]
  },
  {
   "cell_type": "code",
   "execution_count": 3,
   "metadata": {},
   "outputs": [],
   "source": [
    "opens = data['Open']\n",
    "close = data['Close']\n",
    "high = data['High']\n",
    "low = data['Low']\n",
    "period = 6\n",
    "delta = data.loc[:, ['High', 'Low', 'Close']].mean(1)\n",
    "std = delta.ewm(period, min_periods=period).std()\n",
    "baban = delta.ewm(period, min_periods=period).mean()\n",
    "upban = baban + (2 * std)\n",
    "loban = baban - (2 * std)\n",
    "upmban = baban + (1 * std)\n",
    "lomban = baban - (1 * std)\n",
    "band = pd.concat([loban, lomban, baban, upmban, upban], axis=1)\n",
    "band.columns = ['Lowerband', 'LowerMband', 'Middleband', 'UpperMband', 'Upperband']"
   ]
  },
  {
   "cell_type": "code",
   "execution_count": null,
   "metadata": {},
   "outputs": [],
   "source": []
  }
 ],
 "metadata": {
  "interpreter": {
   "hash": "381790eac76a4074dff82f2b50f800dde9e4aec7e4db9cc2ec461915829060f9"
  },
  "kernelspec": {
   "display_name": "Python 3.9.7 ('.venv': venv)",
   "language": "python",
   "name": "python3"
  },
  "language_info": {
   "codemirror_mode": {
    "name": "ipython",
    "version": 3
   },
   "file_extension": ".py",
   "mimetype": "text/x-python",
   "name": "python",
   "nbconvert_exporter": "python",
   "pygments_lexer": "ipython3",
   "version": "3.9.7"
  },
  "orig_nbformat": 4
 },
 "nbformat": 4,
 "nbformat_minor": 2
}
