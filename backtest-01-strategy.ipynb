{
 "cells": [
  {
   "cell_type": "code",
   "execution_count": 1,
   "metadata": {},
   "outputs": [],
   "source": [
    "# Installing dependencies\n",
    "import os, datetime\n",
    "import numpy as np\n",
    "import pandas as pd\n",
    "from yfQuery import datareader"
   ]
  },
  {
   "cell_type": "markdown",
   "metadata": {},
   "source": [
    "# Custom Class"
   ]
  },
  {
   "cell_type": "code",
   "execution_count": 2,
   "metadata": {},
   "outputs": [],
   "source": [
    "class DataLoader:\n",
    "    def __init__(self, symbol, years=10, dname='Database', need_update=False):\n",
    "        self.symbol = symbol\n",
    "        self.yrs = years\n",
    "        self.directory = os.path.join(os.getcwd(), dname)\n",
    "        self.filename = self.symbol + '.csv'\n",
    "        # Create Database directory if doesn't exist\n",
    "        if not os.path.isdir(self.directory):\n",
    "            os.mkdir(self.directory)\n",
    "        # Check if symbol in database or need_update\n",
    "        if not os.path.exists(os.path.join(self.directory, self.filename)) or need_update:\n",
    "            # Download data then load\n",
    "            self.update_database()\n",
    "        else:\n",
    "            # Load data\n",
    "            self.load_data()\n",
    "    \n",
    "    def get_data(self, start, end):\n",
    "        assert isinstance(start, str) or isinstance(start, int), \"Check start date or index\"\n",
    "        assert isinstance(end, str) or isinstance(end, int), \"Check end date or index\"\n",
    "        # Get a set period of data\n",
    "        if isinstance(start, str) and isinstance(end, str):\n",
    "            m = self.data.index.isin(pd.date_range(start, end))\n",
    "            return self.data.loc[m]\n",
    "        elif isinstance(start, int) and isinstance(end, int):\n",
    "            return self.data.iloc[start: end]\n",
    "        else:\n",
    "            print('DataType mismatch!')\n",
    "        \n",
    "    def load_data(self):\n",
    "        # loading data from Database\n",
    "        self.data = pd.read_csv(os.path.join(self.directory, self.filename), index_col=0, header=0)\n",
    "        self.data.index = pd.to_datetime(self.data.index, format='%Y%m%d %H:%M:%S')\n",
    "    \n",
    "    def update_database(self):\n",
    "        # Get today to use as ending date\n",
    "        today = datetime.date.today()\n",
    "        # Get start time base on lookback years \n",
    "        previous = today - datetime.timedelta(days=365*self.yrs)\n",
    "        # Downloading price data\n",
    "        df = datareader(self.symbol, str(previous), str(today))\n",
    "        # Storing price data\n",
    "        df.to_csv(os.path.join(self.directory, self.filename))\n",
    "        self.data = df.dropna()"
   ]
  },
  {
   "cell_type": "code",
   "execution_count": 3,
   "metadata": {},
   "outputs": [],
   "source": [
    "class BuySell:\n",
    "    def __init__(self, capital=None, max_share=None):\n",
    "        self.original_capital = capital\n",
    "        self.capital = capital\n",
    "        self.max_share = max_share\n",
    "        self.share = 0\n",
    "        self.is_holding = False\n",
    "        self.buy_at = 0\n",
    "        # Array for dollar gain per trade \n",
    "        self.dollar_gain = []\n",
    "        # Array for percentage gain per trade\n",
    "        self.pct_gain = []\n",
    "    \n",
    "    def buy(self, price):\n",
    "        # Buy Action\n",
    "        self.buy_at = price\n",
    "        self.is_holding = True\n",
    "        # Buy Power with capital\n",
    "        if self.capital is not None:\n",
    "            self.share = self.capital // self.buy_at\n",
    "            if self.max_share is not None and self.share > self.max_share:\n",
    "                self.share = self.max_share\n",
    "            self.capital -= np.round(self.buy_at * self.share, 2)\n",
    "    \n",
    "    def sell(self, price):\n",
    "        # Sell Action\n",
    "        self.calculate_gain(price)\n",
    "        if self.capital is not None:\n",
    "            self.capital += np.round(price * self.share)\n",
    "            self.share = 0\n",
    "        self.buy_at = 0\n",
    "        self.is_holding = False\n",
    "    \n",
    "    def calculate_gain(self, price):\n",
    "        dollar_gain = price - self.buy_at\n",
    "        pct_gain = price / self.buy_at - 1\n",
    "        self.dollar_gain.append(dollar_gain)\n",
    "        self.pct_gain.append(pct_gain)\n",
    "    \n",
    "    def show_results(self):\n",
    "        self.results = self.result_Series()\n",
    "        print('Average gain of ${:.2f} per share after {} trades'.format(self.results['Total-Dollar-Gain'], \n",
    "                                                                self.results['Num-Trades']))\n",
    "        print('and have average gain percentage of {:.2f}%'.format(self.results['Total-Percentage-Gain'] * 100))\n",
    "        print('Has a {:.2f}% of good trades'.format(self.results['Percentage-of-Good-Trades'] * 100))\n",
    "        if self.capital is not None:\n",
    "            print('Test Ending Capital: ${:.2f} base on original capital of ${:.2f}'.format(self.capital, self.original_capital))\n",
    "            print('With {:.2f}% Capital Gain'.format(self.results['Percentage-Capital-Gain'] * 100))\n",
    "\n",
    "    def result_Series(self):\n",
    "        index = ['Num-Trades', 'Total-Dollar-Gain', 'Total-Percentage-Gain', \n",
    "                 'Percentage-of-Good-Trades','Percentage-Capital-Gain']\n",
    "        num_trades = len(self.dollar_gain)\n",
    "        total_dollar_gain = np.mean(self.dollar_gain)\n",
    "        total_pct_gain = np.mean(self.pct_gain)\n",
    "        pct_good_trades = (np.array(self.dollar_gain) > 0).sum() / num_trades\n",
    "        array = [num_trades, total_dollar_gain, total_pct_gain, pct_good_trades]\n",
    "        if self.capital is not None:\n",
    "            capital_gain = self.capital / self.original_capital - 1\n",
    "            array.append(capital_gain)\n",
    "            return pd.Series(array, index=index)\n",
    "        return pd.Series(array, index=index[:-1])\n",
    "        "
   ]
  },
  {
   "cell_type": "code",
   "execution_count": 4,
   "metadata": {},
   "outputs": [],
   "source": [
    "class Strategy:\n",
    "    def __init__(self, fast=3, slow=6):\n",
    "        self.a = fast\n",
    "        self.b = slow\n",
    "        self.apct = None\n",
    "    \n",
    "    def update_apct(self, df):\n",
    "        # Calcualte Periodic High Low gap\n",
    "        rolled_low = df['Low'].shift(self.a)\n",
    "        pct = df['High'] / rolled_low - 1\n",
    "        # Getting Average Gap base on data\n",
    "        self.apct = pct.mean()\n",
    "    \n",
    "    def update_data(self, df):\n",
    "        self.data = self.crossing_data(df)\n",
    "        self.data = self.get_good_trades(self.data)\n",
    "    \n",
    "    def crossing_data(self, df):\n",
    "        # MA Crossing or Conditional \n",
    "        fast_ma = df['Close'].rolling(self.a).mean()\n",
    "        slow_ma = df['Low'].rolling(self.b).mean()\n",
    "        above = fast_ma > slow_ma\n",
    "        # Concatenate MA and Crossing\n",
    "        data = pd.concat([fast_ma, slow_ma, above], axis=1)\n",
    "        data.columns = ['fast_ma', 'slow_ma', 'above']\n",
    "        # Concatenate DF with MA\n",
    "        data = pd.concat([df.loc[:, ['High', 'Low', 'Close']], data], axis=1)\n",
    "        return data.dropna()\n",
    "    \n",
    "    def get_good_trades(self, df):\n",
    "        rolled_high = df['High'].shift(self.a)\n",
    "        # Adjusted High is like a padding for first requirement of a good buy price\n",
    "        adjusted_high = rolled_high * (1. - self.apct) \n",
    "        # Current Low Price against Adjusted High Price to get a percent different\n",
    "        pricing = df['Low'] / adjusted_high - 1\n",
    "        # Check if the percent different is lesser than the average gap\n",
    "        # which would result in a good buy of the Low price\n",
    "        df['Good-Buy'] = pricing <= self.apct\n",
    "        return df.dropna()"
   ]
  },
  {
   "cell_type": "code",
   "execution_count": 5,
   "metadata": {},
   "outputs": [],
   "source": [
    "def static_backtest(strategy, capital=1000, max_share=1000):\n",
    "    # Static Backtest from data\n",
    "    bs = BuySell(capital=capital, max_share=max_share)\n",
    "    data = strategy.data\n",
    "    length = len(data)\n",
    "\n",
    "    # Backtest \n",
    "    for i in range(length):\n",
    "        # Skipping 1st day\n",
    "        if i == 0:\n",
    "            continue\n",
    "        is_above = data['above'].iloc[i - 1]\n",
    "        is_good_buy = data['Good-Buy'].iloc[i]\n",
    "        buying_price = data['Low'].iloc[i]\n",
    "        selling_pirce = data['Close'].iloc[i]\n",
    "        high = data['High'].iloc[i]\n",
    "        # Buy Sell Logic\n",
    "        if i + 1 == length:\n",
    "            # Selling at the last day\n",
    "            if bs.is_holding:\n",
    "                bs.sell(selling_pirce)\n",
    "        else:\n",
    "            # Check for Holding or not\n",
    "            if not bs.is_holding:\n",
    "                if is_above and is_good_buy:\n",
    "                    bs.buy(buying_price)\n",
    "            else:\n",
    "                pct = high / bs.buy_at - 1\n",
    "                good_sell = pct >= strategy.apct\n",
    "                if not is_above or good_sell:\n",
    "                    if good_sell:\n",
    "                        bs.sell(high)\n",
    "                    else:\n",
    "                        bs.sell(selling_pirce)\n",
    "    \n",
    "    print('#####################################################')\n",
    "    bs.show_results()\n",
    "    print('#####################################################')\n",
    "    avg_days_per_trade = length / bs.results['Num-Trades']\n",
    "    stock_momentum = data['Close'].iloc[-1] / data['Close'].iloc[0] - 1\n",
    "    print('Average days per trade: {:.2f}'.format(avg_days_per_trade))\n",
    "    print(\"Stock's momemtum: {:.2f}\".format(stock_momentum))\n",
    "    print('#####################################################')"
   ]
  },
  {
   "cell_type": "markdown",
   "metadata": {},
   "source": [
    "# Back Testing"
   ]
  },
  {
   "cell_type": "code",
   "execution_count": 21,
   "metadata": {},
   "outputs": [],
   "source": [
    "d = DataLoader('MSFT')"
   ]
  },
  {
   "cell_type": "code",
   "execution_count": 22,
   "metadata": {},
   "outputs": [],
   "source": [
    "data = d.get_data('2018-01-01', '2019-12-31')\n",
    "s = Strategy()\n",
    "s.update_apct(data)\n",
    "s.update_data(data)"
   ]
  },
  {
   "cell_type": "code",
   "execution_count": 23,
   "metadata": {},
   "outputs": [
    {
     "name": "stdout",
     "output_type": "stream",
     "text": [
      "#####################################################\n",
      "Average gain of $2.02 per share after 84.0 trades\n",
      "and have average gain percentage of 1.85%\n",
      "Has a 78.57% of good trades\n",
      "Test Ending Capital: $4371.57 base on original capital of $1000.00\n",
      "With 337.16% Capital Gain\n",
      "#####################################################\n",
      "Average days per trade: 5.93\n",
      "Stock's momemtum: 0.79\n",
      "#####################################################\n"
     ]
    }
   ],
   "source": [
    "static_backtest(s)"
   ]
  },
  {
   "cell_type": "markdown",
   "metadata": {},
   "source": [
    "# Testing without updating the average gap"
   ]
  },
  {
   "cell_type": "code",
   "execution_count": 24,
   "metadata": {},
   "outputs": [],
   "source": [
    "data = d.get_data('2020-01-01', '2020-12-31')\n",
    "s.update_data(data)"
   ]
  },
  {
   "cell_type": "code",
   "execution_count": 25,
   "metadata": {},
   "outputs": [
    {
     "name": "stdout",
     "output_type": "stream",
     "text": [
      "#####################################################\n",
      "Average gain of $4.77 per share after 52.0 trades\n",
      "and have average gain percentage of 2.75%\n",
      "Has a 82.69% of good trades\n",
      "Test Ending Capital: $3733.04 base on original capital of $1000.00\n",
      "With 273.30% Capital Gain\n",
      "#####################################################\n",
      "Average days per trade: 4.77\n",
      "Stock's momemtum: 0.37\n",
      "#####################################################\n"
     ]
    }
   ],
   "source": [
    "static_backtest(s)"
   ]
  },
  {
   "cell_type": "code",
   "execution_count": null,
   "metadata": {},
   "outputs": [],
   "source": []
  }
 ],
 "metadata": {
  "interpreter": {
   "hash": "381790eac76a4074dff82f2b50f800dde9e4aec7e4db9cc2ec461915829060f9"
  },
  "kernelspec": {
   "display_name": "Python 3.9.5 64-bit ('.venv': venv)",
   "language": "python",
   "name": "python3"
  },
  "language_info": {
   "codemirror_mode": {
    "name": "ipython",
    "version": 3
   },
   "file_extension": ".py",
   "mimetype": "text/x-python",
   "name": "python",
   "nbconvert_exporter": "python",
   "pygments_lexer": "ipython3",
   "version": "3.9.7"
  },
  "orig_nbformat": 4
 },
 "nbformat": 4,
 "nbformat_minor": 2
}
