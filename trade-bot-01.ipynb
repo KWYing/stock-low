{
 "cells": [
  {
   "cell_type": "code",
   "execution_count": 1,
   "metadata": {},
   "outputs": [],
   "source": [
    "import numpy as np\n",
    "import pandas as pd\n",
    "from dLoader import DataLoader"
   ]
  },
  {
   "cell_type": "code",
   "execution_count": 2,
   "metadata": {},
   "outputs": [],
   "source": [
    "# Binance API REST Call without api keys\n",
    "def millisecond(date, place=10 ** 6):\n",
    "    return pd.Timestamp(date).value // place\n",
    "\n",
    "def url(symbol, interval, start=None, end=None, limit=1000):\n",
    "    # Look back data of 3 years\n",
    "    # interval: m, d, M\n",
    "    # Max limit: 1000\n",
    "    base_url = \"https://api.binance.us/api/v3/klines?\"\n",
    "    symbol = \"symbol=\" + symbol\n",
    "    interval = \"&interval=\" + interval\n",
    "    start = \"&startTime=\" + str(millisecond(start)) if start is not None else \"\"\n",
    "    end = \"&endTime=\" + str(millisecond(end)) if end is not None else \"\"\n",
    "    limit = \"&limit=\" + str(limit)\n",
    "    return base_url + symbol + interval + start + end + limit\n",
    "\n",
    "def get_data(symbol, interval, start=None, end=None, limit=1000):\n",
    "    raw = pd.read_json(url(symbol, interval, start=start, end=end, limit=limit))\n",
    "    # Making change to DataFrame\n",
    "    date = pd.to_datetime(raw.iloc[:, 0], unit='ms')\n",
    "    date.name = None\n",
    "    columns = ['Open', 'High', 'Low', 'Close', 'Volume']\n",
    "    df = raw.iloc[:, 1:6]\n",
    "    df.columns = columns\n",
    "    df.index = date\n",
    "    return df"
   ]
  },
  {
   "cell_type": "code",
   "execution_count": 136,
   "metadata": {},
   "outputs": [],
   "source": [
    "def query_yahoo_finance(symbol, start=None, end=None, interval=None):\n",
    "    # Max 60 days look back, 300 rows per query\n",
    "    valid_interval = ['1m', '2m', '5m', '15m', '30m', '60m', '90m', \n",
    "                      '1h', '1d', '5d', '1wk', '1mo', '3mo']\n",
    "    assert interval in valid_interval, \"Valid intervals: {}\".format(valid_interval)\n",
    "    # Base Yahoo Finance Query API URL\n",
    "    query_url = \"https://query1.finance.yahoo.com/v8/finance/chart/\"\n",
    "    interval = \"&interval=\" + interval if interval is not None else \"\"\n",
    "    period1 = \"&period1=\" + str(millisecond(start, place=10**9)) if start is not None else \"\"\n",
    "    period2 = \"&period2=\" + str(millisecond(end, place=10**9)) if end is not None else \"\"\n",
    "    url = f\"{query_url}{symbol}?symbol={symbol}{period1}{period2}{interval}\"\n",
    "    # Get meta data\n",
    "    meta = pd.read_json(url).loc['result', 'chart'][0]   \n",
    "    # Change to DataFrame using meta data\n",
    "    timestamp = pd.to_datetime(meta['timestamp'], unit='s')\n",
    "    columns = ['open', 'high', 'low', 'close', 'volume']\n",
    "    df = pd.DataFrame.from_dict(meta['indicators']['quote'][0]).reindex(columns=columns)\n",
    "    df.columns = [col.capitalize() for col in columns]\n",
    "    df.index = timestamp.tz_localize('UTC').tz_convert('US/Eastern')\n",
    "    return df"
   ]
  },
  {
   "cell_type": "code",
   "execution_count": 3,
   "metadata": {},
   "outputs": [
    {
     "data": {
      "text/html": [
       "<div>\n",
       "<style scoped>\n",
       "    .dataframe tbody tr th:only-of-type {\n",
       "        vertical-align: middle;\n",
       "    }\n",
       "\n",
       "    .dataframe tbody tr th {\n",
       "        vertical-align: top;\n",
       "    }\n",
       "\n",
       "    .dataframe thead th {\n",
       "        text-align: right;\n",
       "    }\n",
       "</style>\n",
       "<table border=\"1\" class=\"dataframe\">\n",
       "  <thead>\n",
       "    <tr style=\"text-align: right;\">\n",
       "      <th></th>\n",
       "      <th>% of Net Assets</th>\n",
       "      <th>Ticker</th>\n",
       "      <th>Name</th>\n",
       "      <th>SEDOL</th>\n",
       "      <th>Market Price ($)</th>\n",
       "      <th>Shares Held</th>\n",
       "      <th>Market Value ($)</th>\n",
       "    </tr>\n",
       "  </thead>\n",
       "  <tbody>\n",
       "    <tr>\n",
       "      <th>0</th>\n",
       "      <td>12.79</td>\n",
       "      <td>AAPL</td>\n",
       "      <td>APPLE INC</td>\n",
       "      <td>2046251</td>\n",
       "      <td>165.12</td>\n",
       "      <td>5,059,138.00</td>\n",
       "      <td>835,364,866.56</td>\n",
       "    </tr>\n",
       "    <tr>\n",
       "      <th>1</th>\n",
       "      <td>10.59</td>\n",
       "      <td>MSFT</td>\n",
       "      <td>MICROSOFT CORP</td>\n",
       "      <td>2588173</td>\n",
       "      <td>298.79</td>\n",
       "      <td>2,315,126.00</td>\n",
       "      <td>691,736,497.54</td>\n",
       "    </tr>\n",
       "    <tr>\n",
       "      <th>2</th>\n",
       "      <td>7.37</td>\n",
       "      <td>AMZN</td>\n",
       "      <td>AMAZON.COM INC</td>\n",
       "      <td>2000019</td>\n",
       "      <td>3,071.26</td>\n",
       "      <td>156,642.00</td>\n",
       "      <td>481,088,308.92</td>\n",
       "    </tr>\n",
       "    <tr>\n",
       "      <th>3</th>\n",
       "      <td>4.14</td>\n",
       "      <td>TSLA</td>\n",
       "      <td>TESLA INC</td>\n",
       "      <td>B616C79</td>\n",
       "      <td>870.43</td>\n",
       "      <td>310,536.00</td>\n",
       "      <td>270,299,850.48</td>\n",
       "    </tr>\n",
       "    <tr>\n",
       "      <th>4</th>\n",
       "      <td>4.05</td>\n",
       "      <td>NVDA</td>\n",
       "      <td>NVIDIA CORP</td>\n",
       "      <td>2379504</td>\n",
       "      <td>243.85</td>\n",
       "      <td>1,085,828.00</td>\n",
       "      <td>264,779,157.80</td>\n",
       "    </tr>\n",
       "    <tr>\n",
       "      <th>...</th>\n",
       "      <td>...</td>\n",
       "      <td>...</td>\n",
       "      <td>...</td>\n",
       "      <td>...</td>\n",
       "      <td>...</td>\n",
       "      <td>...</td>\n",
       "      <td>...</td>\n",
       "    </tr>\n",
       "    <tr>\n",
       "      <th>98</th>\n",
       "      <td>0.18</td>\n",
       "      <td>SWKS</td>\n",
       "      <td>SKYWORKS SOLUTIONS INC</td>\n",
       "      <td>2961053</td>\n",
       "      <td>138.17</td>\n",
       "      <td>85,943.00</td>\n",
       "      <td>11,874,744.31</td>\n",
       "    </tr>\n",
       "    <tr>\n",
       "      <th>99</th>\n",
       "      <td>0.18</td>\n",
       "      <td>DOCU</td>\n",
       "      <td>DOCUSIGN INC</td>\n",
       "      <td>BFYT7B7</td>\n",
       "      <td>118.43</td>\n",
       "      <td>98,271.00</td>\n",
       "      <td>11,638,234.53</td>\n",
       "    </tr>\n",
       "    <tr>\n",
       "      <th>100</th>\n",
       "      <td>0.17</td>\n",
       "      <td>PDD</td>\n",
       "      <td>PINDUODUO INC-ADR</td>\n",
       "      <td>BYVW0F7</td>\n",
       "      <td>51.86</td>\n",
       "      <td>207,277.00</td>\n",
       "      <td>10,749,385.22</td>\n",
       "    </tr>\n",
       "    <tr>\n",
       "      <th>101</th>\n",
       "      <td>0.14</td>\n",
       "      <td>SPLK</td>\n",
       "      <td>SPLUNK INC</td>\n",
       "      <td>B424494</td>\n",
       "      <td>118.10</td>\n",
       "      <td>78,121.00</td>\n",
       "      <td>9,226,090.10</td>\n",
       "    </tr>\n",
       "    <tr>\n",
       "      <th>102</th>\n",
       "      <td>0.11</td>\n",
       "      <td>CEG</td>\n",
       "      <td>CONSTELLATION ENERGY</td>\n",
       "      <td>BMH4FS1</td>\n",
       "      <td>45.98</td>\n",
       "      <td>157,809.00</td>\n",
       "      <td>7,256,057.84</td>\n",
       "    </tr>\n",
       "  </tbody>\n",
       "</table>\n",
       "<p>103 rows × 7 columns</p>\n",
       "</div>"
      ],
      "text/plain": [
       "     % of Net Assets Ticker                    Name    SEDOL Market Price ($)  \\\n",
       "0              12.79   AAPL               APPLE INC  2046251           165.12   \n",
       "1              10.59   MSFT          MICROSOFT CORP  2588173           298.79   \n",
       "2               7.37   AMZN          AMAZON.COM INC  2000019         3,071.26   \n",
       "3               4.14   TSLA               TESLA INC  B616C79           870.43   \n",
       "4               4.05   NVDA             NVIDIA CORP  2379504           243.85   \n",
       "..               ...    ...                     ...      ...              ...   \n",
       "98              0.18   SWKS  SKYWORKS SOLUTIONS INC  2961053           138.17   \n",
       "99              0.18   DOCU            DOCUSIGN INC  BFYT7B7           118.43   \n",
       "100             0.17    PDD       PINDUODUO INC-ADR  BYVW0F7            51.86   \n",
       "101             0.14   SPLK              SPLUNK INC  B424494           118.10   \n",
       "102             0.11    CEG    CONSTELLATION ENERGY  BMH4FS1            45.98   \n",
       "\n",
       "      Shares Held Market Value ($)  \n",
       "0    5,059,138.00   835,364,866.56  \n",
       "1    2,315,126.00   691,736,497.54  \n",
       "2      156,642.00   481,088,308.92  \n",
       "3      310,536.00   270,299,850.48  \n",
       "4    1,085,828.00   264,779,157.80  \n",
       "..            ...              ...  \n",
       "98      85,943.00    11,874,744.31  \n",
       "99      98,271.00    11,638,234.53  \n",
       "100    207,277.00    10,749,385.22  \n",
       "101     78,121.00     9,226,090.10  \n",
       "102    157,809.00     7,256,057.84  \n",
       "\n",
       "[103 rows x 7 columns]"
      ]
     },
     "execution_count": 3,
     "metadata": {},
     "output_type": "execute_result"
    }
   ],
   "source": [
    "# Load qyld csv\n",
    "pd.read_csv('qyld_full-holdings_20220228.csv')"
   ]
  },
  {
   "cell_type": "code",
   "execution_count": 4,
   "metadata": {},
   "outputs": [],
   "source": [
    "qlyd = pd.read_csv('qyld_full-holdings_20220228.csv').dropna()"
   ]
  },
  {
   "cell_type": "code",
   "execution_count": 5,
   "metadata": {},
   "outputs": [],
   "source": [
    "# Download the stock data\n",
    "import os\n",
    "\n",
    "folder = 'QLYD'\n",
    "path = os.path.join(os.getcwd(), folder)\n",
    "\n",
    "for ticker in qlyd.loc[:, 'Ticker']:\n",
    "    try: \n",
    "        if not os.path.exists(os.path.join(path, ticker + '.csv')):\n",
    "            DataLoader(ticker, dname='QLYD')\n",
    "    except Exception as e:\n",
    "        print(e)"
   ]
  },
  {
   "cell_type": "markdown",
   "metadata": {},
   "source": [
    "# Analysis"
   ]
  },
  {
   "cell_type": "code",
   "execution_count": 6,
   "metadata": {},
   "outputs": [],
   "source": [
    "def batching(data, period):\n",
    "    batches = len(data) // period\n",
    "    max_length = batches * period\n",
    "    return np.array(data)[-max_length:].reshape(-1, period)\n",
    "\n",
    "def regroup(data, period):\n",
    "    opens = batching(data['Open'], period)[:, 0]\n",
    "    high = batching(data['High'], period).max(1)\n",
    "    low = batching(data['Low'], period).min(1)\n",
    "    close = batching(data['Close'], period)[:, -1]\n",
    "    volume = batching(data['Volume'], period).sum(1)\n",
    "    date = pd.to_datetime(batching(data.index, period)[:, -1])\n",
    "    return pd.DataFrame(np.stack([opens, high, low, close, volume], axis=1),\n",
    "                        columns=['Open', 'High', 'Low', 'Close', 'Volume'],\n",
    "                        index=date)"
   ]
  },
  {
   "cell_type": "markdown",
   "metadata": {},
   "source": [
    "### Tables"
   ]
  },
  {
   "cell_type": "code",
   "execution_count": 7,
   "metadata": {},
   "outputs": [],
   "source": [
    "def calculation(data):\n",
    "    base = data['Close'].shift(-1) / data['Close'] - 1\n",
    "    gain = data['High'].shift(-1) / data['Close'] - 1\n",
    "    loss = data['Low'].shift(-1) / data['Close'] - 1\n",
    "    df = pd.concat([base, gain, loss], axis=1).dropna()\n",
    "    df.columns = ['Base', 'Gain', 'Loss']\n",
    "    return df"
   ]
  },
  {
   "cell_type": "code",
   "execution_count": 8,
   "metadata": {},
   "outputs": [],
   "source": [
    "period = 5\n",
    "ticker = 'TSLA'\n",
    "data = DataLoader(ticker).get_data('2016-01-01', '2017-12-31')\n",
    "reshaped = regroup(data, period)\n",
    "gains = calculation(reshaped)"
   ]
  },
  {
   "cell_type": "code",
   "execution_count": 9,
   "metadata": {},
   "outputs": [
    {
     "data": {
      "text/plain": [
       "Base    0.005962\n",
       "Gain    0.041854\n",
       "Loss   -0.035989\n",
       "dtype: float64"
      ]
     },
     "execution_count": 9,
     "metadata": {},
     "output_type": "execute_result"
    }
   ],
   "source": [
    "gains.mean(0)"
   ]
  },
  {
   "cell_type": "code",
   "execution_count": null,
   "metadata": {},
   "outputs": [],
   "source": []
  }
 ],
 "metadata": {
  "interpreter": {
   "hash": "381790eac76a4074dff82f2b50f800dde9e4aec7e4db9cc2ec461915829060f9"
  },
  "kernelspec": {
   "display_name": "Python 3.9.7 ('.venv': venv)",
   "language": "python",
   "name": "python3"
  },
  "language_info": {
   "codemirror_mode": {
    "name": "ipython",
    "version": 3
   },
   "file_extension": ".py",
   "mimetype": "text/x-python",
   "name": "python",
   "nbconvert_exporter": "python",
   "pygments_lexer": "ipython3",
   "version": "3.9.7"
  },
  "orig_nbformat": 4
 },
 "nbformat": 4,
 "nbformat_minor": 2
}
