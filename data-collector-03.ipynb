{
 "cells": [
  {
   "cell_type": "code",
   "execution_count": 1,
   "metadata": {},
   "outputs": [],
   "source": [
    "import os, json\n",
    "import numpy as np\n",
    "import pandas as pd\n",
    "from dLoader import DataLoader"
   ]
  },
  {
   "cell_type": "markdown",
   "metadata": {},
   "source": [
    "# Get Tickers from Database"
   ]
  },
  {
   "cell_type": "code",
   "execution_count": 2,
   "metadata": {},
   "outputs": [
    {
     "name": "stdout",
     "output_type": "stream",
     "text": [
      "Total tickers met parameters in Database: 253\n"
     ]
    }
   ],
   "source": [
    "directory = os.path.join(os.getcwd(), 'Database')\n",
    "# Search Param\n",
    "min_dollar = 0\n",
    "max_dollar = 10\n",
    "min_length = 250 * 6\n",
    "today = pd.Timestamp.now()\n",
    "# Placeholder\n",
    "tickers = []\n",
    "files = os.listdir(directory)\n",
    "if 'keeper.json' in files:\n",
    "    path = os.path.join(directory, 'keeper.json')\n",
    "    db = pd.read_json(path, orient='index')\n",
    "    # Get pricing\n",
    "    mask = (db['Latest Price'].between(min_dollar, max_dollar)) & (db['Length in Database'] > min_length)\n",
    "    ndb = db.loc[mask].copy()\n",
    "    need_update = (today.day - pd.to_datetime(ndb['Last Updated']).dt.day) > 90\n",
    "    if need_update.sum() > 0:\n",
    "        jFile = json.load(open(path, 'r'))\n",
    "        for ticker in ndb.loc[need_update].index.to_list():\n",
    "            DataLoader(ticker).update_database()\n",
    "            jFile[ticker]['Last Updated'] = today.strftime('%Y-%m-%d')\n",
    "        # Write json file\n",
    "        json.dump(jFile, open(path, 'w'), indent=4)\n",
    "    tickers = db.loc[mask].index.to_list()\n",
    "else:\n",
    "    jFile = {}\n",
    "    for file in files:\n",
    "        name, ext = file.split('.')\n",
    "        if ext == 'csv':\n",
    "            df = DataLoader(name).data\n",
    "            latest_price = df['Close'].iloc[-1]\n",
    "            jFile[name] = {'Latest Price': latest_price,\n",
    "                           'Length in Database': len(df),\n",
    "                           'Last Updated': df.index[-1].strftime('%Y-%m-%d')}\n",
    "            if len(df) > min_length and (min_dollar < latest_price < max_dollar):\n",
    "                tickers.append(name)\n",
    "    # Write json file\n",
    "    with open(os.path.join(directory, 'keeper.json'), 'w') as outfile:\n",
    "        json.dump(jFile, outfile, indent=4)\n",
    "\n",
    "print('Total tickers met parameters in Database: {}'.format(len(tickers)))"
   ]
  },
  {
   "cell_type": "code",
   "execution_count": null,
   "metadata": {},
   "outputs": [],
   "source": []
  }
 ],
 "metadata": {
  "interpreter": {
   "hash": "381790eac76a4074dff82f2b50f800dde9e4aec7e4db9cc2ec461915829060f9"
  },
  "kernelspec": {
   "display_name": "Python 3.9.7 ('.venv': venv)",
   "language": "python",
   "name": "python3"
  },
  "language_info": {
   "codemirror_mode": {
    "name": "ipython",
    "version": 3
   },
   "file_extension": ".py",
   "mimetype": "text/x-python",
   "name": "python",
   "nbconvert_exporter": "python",
   "pygments_lexer": "ipython3",
   "version": "3.9.7"
  },
  "orig_nbformat": 4
 },
 "nbformat": 4,
 "nbformat_minor": 2
}
