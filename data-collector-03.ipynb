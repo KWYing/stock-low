{
 "cells": [
  {
   "cell_type": "code",
   "execution_count": 1,
   "metadata": {},
   "outputs": [],
   "source": [
    "import os, json\n",
    "import numpy as np\n",
    "import pandas as pd\n",
    "from dLoader import DataLoader\n",
    "from dLoader.utils import regroup"
   ]
  },
  {
   "cell_type": "markdown",
   "metadata": {},
   "source": [
    "# Get Tickers from Database"
   ]
  },
  {
   "cell_type": "code",
   "execution_count": 52,
   "metadata": {},
   "outputs": [
    {
     "name": "stdout",
     "output_type": "stream",
     "text": [
      "Total tickers met parameters in Database: 253\n"
     ]
    }
   ],
   "source": [
    "directory = os.path.join(os.getcwd(), 'Database')\n",
    "# Search Param\n",
    "min_dollar = 0\n",
    "max_dollar = 10\n",
    "min_length = 250 * 6\n",
    "today = pd.Timestamp.now()\n",
    "# Placeholder\n",
    "tickers = []\n",
    "files = os.listdir(directory)\n",
    "if 'keeper.json' in files:\n",
    "    path = os.path.join(directory, 'keeper.json')\n",
    "    db = pd.read_json(path, orient='index')\n",
    "    # Get pricing\n",
    "    mask = (db['Latest Price'].between(min_dollar, max_dollar)) & (db['Length in Database'] > min_length)\n",
    "    ndb = db.loc[mask].copy()\n",
    "    need_update = (today.day - pd.to_datetime(ndb['Last Updated']).dt.day) > 5\n",
    "    if need_update.sum() > 0:\n",
    "        jFile = json.load(open(path, 'r'))\n",
    "        for ticker in ndb.loc[need_update].index.to_list():\n",
    "            DataLoader(ticker).update_database()\n",
    "            jFile[ticker]['Last Updated'] = today.strftime('%Y-%m-%d')\n",
    "        # Write json file\n",
    "        json.dump(jFile, open(path, 'w'), indent=4)\n",
    "    tickers = db.loc[mask].index.to_list()\n",
    "else:\n",
    "    jFile = {}\n",
    "    for file in files:\n",
    "        name, ext = file.split('.')\n",
    "        if ext == 'csv':\n",
    "            df = DataLoader(name).data\n",
    "            latest_price = df['Close'].iloc[-1]\n",
    "            jFile[name] = {'Latest Price': latest_price,\n",
    "                           'Length in Database': len(df),\n",
    "                           'Last Updated': df.index[-1].strftime('%Y-%m-%d')}\n",
    "            if len(df) > min_length and (min_dollar < latest_price < max_dollar):\n",
    "                tickers.append(name)\n",
    "    # Write json file\n",
    "    with open(os.path.join(directory, 'keeper.json'), 'w') as outfile:\n",
    "        json.dump(jFile, outfile, indent=4)\n",
    "\n",
    "print('Total tickers met parameters in Database: {}'.format(len(tickers)))"
   ]
  },
  {
   "cell_type": "code",
   "execution_count": 53,
   "metadata": {},
   "outputs": [],
   "source": [
    "def sim(data, sell_limit=.03, buy_limit=.03, max_hold=10):\n",
    "    holding = False\n",
    "    buy_at = 0\n",
    "    cap = {}\n",
    "    held = 0\n",
    "    for d, prices in data.iterrows():\n",
    "        if pd.isna(prices.Previous_Close):\n",
    "            continue\n",
    "        if not holding:\n",
    "            check_low = prices.Low / prices.Previous_Close - 1\n",
    "            if check_low < -buy_limit:\n",
    "                buy_at = prices.Low * (1 + buy_limit)\n",
    "                holding = True\n",
    "        else:\n",
    "            held += 1\n",
    "            check_open = prices.Open / buy_at - 1\n",
    "            check_high = prices.High / buy_at - 1\n",
    "            check_close = prices.Close / buy_at - 1\n",
    "            if check_open > sell_limit:\n",
    "                cap[d] = {'Gain': check_open,\n",
    "                          'Held': held}\n",
    "                holding = False\n",
    "                buy_at = 0\n",
    "                held = 0\n",
    "            elif check_high > sell_limit:\n",
    "                # Trailling Sell\n",
    "                cap[d] = {'Gain': sell_limit,\n",
    "                          'Held': held}\n",
    "                holding = False\n",
    "                buy_at = 0\n",
    "                held = 0\n",
    "            elif held > max_hold:\n",
    "                cap[d] = {'Gain': check_close,\n",
    "                          'Held': held}\n",
    "                holding = False\n",
    "                buy_at = 0\n",
    "                held = 0\n",
    "\n",
    "    db = pd.DataFrame.from_dict(cap, orient='index')\n",
    "    pct_above_sell_limit = (db['Gain'] > sell_limit).mean()\n",
    "    pct_above_zero = (db['Gain'] > 0).mean()\n",
    "    cap_gain = np.prod(db['Gain'] + 1) - 1\n",
    "    return pct_above_sell_limit, pct_above_zero, cap_gain"
   ]
  },
  {
   "cell_type": "code",
   "execution_count": 105,
   "metadata": {},
   "outputs": [],
   "source": [
    "start_dates = pd.date_range('2018-01-01', '2020-12-31', freq='QS')\n",
    "end_dates = pd.date_range('2018-01-01', '2020-12-31', freq='Q')\n",
    "dic = {}\n",
    "cols = ['Above Sell Limit', 'Above Zero', 'Cap Gain']\n",
    "for ticker in tickers:\n",
    "    stat = []\n",
    "    try:\n",
    "        for start, end in zip(start_dates, end_dates):\n",
    "            data = DataLoader(ticker).get_data(start.strftime('%Y-%m-%d'), \n",
    "                                            end.strftime('%Y-%m-%d'))\n",
    "            data['Previous_Close'] = data['Close'].shift(1)\n",
    "            scores = sim(data)\n",
    "            stat.append(scores)\n",
    "        avg_quarterly_status = np.array(stat).mean(0)\n",
    "    except Exception as e:\n",
    "        continue\n",
    "    dic[ticker] = {cols[i]: aqs for i, aqs in enumerate(avg_quarterly_status)}"
   ]
  },
  {
   "cell_type": "code",
   "execution_count": 106,
   "metadata": {},
   "outputs": [],
   "source": [
    "df = pd.DataFrame.from_dict(dic, orient='index')"
   ]
  },
  {
   "cell_type": "code",
   "execution_count": 107,
   "metadata": {},
   "outputs": [
    {
     "data": {
      "text/plain": [
       "['MVIS',\n",
       " 'ATOS',\n",
       " 'CRIS',\n",
       " 'UAVS',\n",
       " 'AWH',\n",
       " 'VTGN',\n",
       " 'PRTG',\n",
       " 'IBIO',\n",
       " 'HGEN',\n",
       " 'GNUS',\n",
       " 'BTX',\n",
       " 'MMAT']"
      ]
     },
     "execution_count": 107,
     "metadata": {},
     "output_type": "execute_result"
    }
   ],
   "source": [
    "mask = df['Cap Gain'].between(.6, 10)\n",
    "backtest_tickers = df[mask].index.to_list()\n",
    "backtest_tickers"
   ]
  },
  {
   "cell_type": "code",
   "execution_count": 114,
   "metadata": {},
   "outputs": [],
   "source": [
    "start_dates = pd.date_range('2021-01-01', '2021-12-31', freq='QS')\n",
    "end_dates = pd.date_range('2021-01-01', '2021-12-31', freq='Q')\n",
    "dic = {}\n",
    "for ticker in backtest_tickers:\n",
    "    stat = []\n",
    "    try:\n",
    "        for start, end in zip(start_dates, end_dates):\n",
    "            data = DataLoader(ticker).get_data(start.strftime('%Y-%m-%d'), \n",
    "                                            end.strftime('%Y-%m-%d'))\n",
    "            data['Previous_Close'] = data['Close'].shift(1)\n",
    "            scores = sim(data)\n",
    "            stat.append(scores)\n",
    "            if scores[-1] < .2:\n",
    "                break\n",
    "    except Exception as e:\n",
    "        continue\n",
    "    total_status = np.array(stat)\n",
    "    dic[ticker] = {'Above Sell Limit': total_status.mean(0)[0],\n",
    "                   'Above Zero': total_status.mean(0)[1],\n",
    "                   'Cap Gain': total_status.sum(0)[-1]}"
   ]
  },
  {
   "cell_type": "code",
   "execution_count": 115,
   "metadata": {},
   "outputs": [],
   "source": [
    "df = pd.DataFrame.from_dict(dic, orient='index')"
   ]
  },
  {
   "cell_type": "code",
   "execution_count": 116,
   "metadata": {},
   "outputs": [
    {
     "data": {
      "text/html": [
       "<div>\n",
       "<style scoped>\n",
       "    .dataframe tbody tr th:only-of-type {\n",
       "        vertical-align: middle;\n",
       "    }\n",
       "\n",
       "    .dataframe tbody tr th {\n",
       "        vertical-align: top;\n",
       "    }\n",
       "\n",
       "    .dataframe thead th {\n",
       "        text-align: right;\n",
       "    }\n",
       "</style>\n",
       "<table border=\"1\" class=\"dataframe\">\n",
       "  <thead>\n",
       "    <tr style=\"text-align: right;\">\n",
       "      <th></th>\n",
       "      <th>Above Sell Limit</th>\n",
       "      <th>Above Zero</th>\n",
       "      <th>Cap Gain</th>\n",
       "    </tr>\n",
       "  </thead>\n",
       "  <tbody>\n",
       "    <tr>\n",
       "      <th>MVIS</th>\n",
       "      <td>0.338095</td>\n",
       "      <td>0.900000</td>\n",
       "      <td>2.088677</td>\n",
       "    </tr>\n",
       "    <tr>\n",
       "      <th>ATOS</th>\n",
       "      <td>0.362418</td>\n",
       "      <td>0.902614</td>\n",
       "      <td>2.180882</td>\n",
       "    </tr>\n",
       "    <tr>\n",
       "      <th>CRIS</th>\n",
       "      <td>0.416667</td>\n",
       "      <td>0.833333</td>\n",
       "      <td>0.012357</td>\n",
       "    </tr>\n",
       "    <tr>\n",
       "      <th>UAVS</th>\n",
       "      <td>0.447964</td>\n",
       "      <td>0.893665</td>\n",
       "      <td>0.257283</td>\n",
       "    </tr>\n",
       "    <tr>\n",
       "      <th>AWH</th>\n",
       "      <td>0.335165</td>\n",
       "      <td>0.708791</td>\n",
       "      <td>-0.004273</td>\n",
       "    </tr>\n",
       "    <tr>\n",
       "      <th>VTGN</th>\n",
       "      <td>0.271062</td>\n",
       "      <td>0.801740</td>\n",
       "      <td>0.919798</td>\n",
       "    </tr>\n",
       "    <tr>\n",
       "      <th>PRTG</th>\n",
       "      <td>0.285714</td>\n",
       "      <td>0.857143</td>\n",
       "      <td>0.140650</td>\n",
       "    </tr>\n",
       "    <tr>\n",
       "      <th>IBIO</th>\n",
       "      <td>0.233333</td>\n",
       "      <td>0.685714</td>\n",
       "      <td>0.530141</td>\n",
       "    </tr>\n",
       "    <tr>\n",
       "      <th>HGEN</th>\n",
       "      <td>0.303846</td>\n",
       "      <td>0.861538</td>\n",
       "      <td>0.421940</td>\n",
       "    </tr>\n",
       "    <tr>\n",
       "      <th>GNUS</th>\n",
       "      <td>0.125000</td>\n",
       "      <td>0.769697</td>\n",
       "      <td>1.678272</td>\n",
       "    </tr>\n",
       "    <tr>\n",
       "      <th>BTX</th>\n",
       "      <td>0.375421</td>\n",
       "      <td>0.923521</td>\n",
       "      <td>5.315695</td>\n",
       "    </tr>\n",
       "    <tr>\n",
       "      <th>MMAT</th>\n",
       "      <td>0.299206</td>\n",
       "      <td>0.911111</td>\n",
       "      <td>1.883191</td>\n",
       "    </tr>\n",
       "  </tbody>\n",
       "</table>\n",
       "</div>"
      ],
      "text/plain": [
       "      Above Sell Limit  Above Zero  Cap Gain\n",
       "MVIS          0.338095    0.900000  2.088677\n",
       "ATOS          0.362418    0.902614  2.180882\n",
       "CRIS          0.416667    0.833333  0.012357\n",
       "UAVS          0.447964    0.893665  0.257283\n",
       "AWH           0.335165    0.708791 -0.004273\n",
       "VTGN          0.271062    0.801740  0.919798\n",
       "PRTG          0.285714    0.857143  0.140650\n",
       "IBIO          0.233333    0.685714  0.530141\n",
       "HGEN          0.303846    0.861538  0.421940\n",
       "GNUS          0.125000    0.769697  1.678272\n",
       "BTX           0.375421    0.923521  5.315695\n",
       "MMAT          0.299206    0.911111  1.883191"
      ]
     },
     "execution_count": 116,
     "metadata": {},
     "output_type": "execute_result"
    }
   ],
   "source": [
    "df"
   ]
  },
  {
   "cell_type": "code",
   "execution_count": null,
   "metadata": {},
   "outputs": [],
   "source": []
  }
 ],
 "metadata": {
  "interpreter": {
   "hash": "381790eac76a4074dff82f2b50f800dde9e4aec7e4db9cc2ec461915829060f9"
  },
  "kernelspec": {
   "display_name": "Python 3.9.7 ('.venv': venv)",
   "language": "python",
   "name": "python3"
  },
  "language_info": {
   "codemirror_mode": {
    "name": "ipython",
    "version": 3
   },
   "file_extension": ".py",
   "mimetype": "text/x-python",
   "name": "python",
   "nbconvert_exporter": "python",
   "pygments_lexer": "ipython3",
   "version": "3.9.7"
  },
  "orig_nbformat": 4
 },
 "nbformat": 4,
 "nbformat_minor": 2
}
