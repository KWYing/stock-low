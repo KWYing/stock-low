{
 "cells": [
  {
   "cell_type": "code",
   "execution_count": 1,
   "metadata": {},
   "outputs": [],
   "source": [
    "import os, json\n",
    "import numpy as np\n",
    "import pandas as pd\n",
    "from dLoader import DataLoader"
   ]
  },
  {
   "cell_type": "markdown",
   "metadata": {},
   "source": [
    "# Get Tickers from Database"
   ]
  },
  {
   "cell_type": "code",
   "execution_count": 6,
   "metadata": {},
   "outputs": [
    {
     "name": "stdout",
     "output_type": "stream",
     "text": [
      "Total tickers met parameters in Database: 253\n"
     ]
    }
   ],
   "source": [
    "directory = os.path.join(os.getcwd(), 'Database')\n",
    "# Search Param\n",
    "min_dollar = 0\n",
    "max_dollar = 10\n",
    "min_length = 250 * 6\n",
    "today = pd.Timestamp.now()\n",
    "# Placeholder\n",
    "tickers = []\n",
    "files = os.listdir(directory)\n",
    "if 'keeper.json' in files:\n",
    "    path = os.path.join(directory, 'keeper.json')\n",
    "    db = pd.read_json(path, orient='index')\n",
    "    # Get pricing\n",
    "    mask = (db['Latest Price'].between(min_dollar, max_dollar)) & (db['Length in Database'] > min_length)\n",
    "    ndb = db.loc[mask].copy()\n",
    "    need_update = (today.day - pd.to_datetime(ndb['Last Updated']).dt.day) > 90\n",
    "    if need_update.sum() > 0:\n",
    "        jFile = json.load(open(path, 'r'))\n",
    "        for ticker in ndb.loc[need_update].index.to_list():\n",
    "            DataLoader(ticker).update_database()\n",
    "            jFile[ticker]['Last Updated'] = today.strftime('%Y-%m-%d')\n",
    "        # Write json file\n",
    "        json.dump(jFile, open(path, 'w'), indent=4)\n",
    "    tickers = db.loc[mask].index.to_list()\n",
    "else:\n",
    "    jFile = {}\n",
    "    for file in files:\n",
    "        name, ext = file.split('.')\n",
    "        if ext == 'csv':\n",
    "            df = DataLoader(name).data\n",
    "            latest_price = df['Close'].iloc[-1]\n",
    "            jFile[name] = {'Latest Price': latest_price,\n",
    "                           'Length in Database': len(df),\n",
    "                           'Last Updated': df.index[-1].strftime('%Y-%m-%d')}\n",
    "            if len(df) > min_length and (min_dollar < latest_price < max_dollar):\n",
    "                tickers.append(name)\n",
    "    # Write json file\n",
    "    with open(os.path.join(directory, 'keeper.json'), 'w') as outfile:\n",
    "        json.dump(jFile, outfile, indent=4)\n",
    "\n",
    "print('Total tickers met parameters in Database: {}'.format(len(tickers)))"
   ]
  },
  {
   "cell_type": "code",
   "execution_count": 321,
   "metadata": {},
   "outputs": [],
   "source": [
    "ticker = np.random.choice(tickers)\n",
    "data = DataLoader(ticker).get_data('2021-01-01', '2021-12-31')"
   ]
  },
  {
   "cell_type": "code",
   "execution_count": 322,
   "metadata": {},
   "outputs": [],
   "source": [
    "# ATR\n",
    "atr_period = 5\n",
    "hl = data['High'] - data['Low']\n",
    "hc = (data['High'] - data['Close'].shift(1)).abs()\n",
    "lc = (data['Low'] - data['Close'].shift(1)).abs()\n",
    "data['TR'] = np.stack([hl, hc, lc], axis=1).max(1)\n",
    "data['ATR'] = data['TR'].ewm(alpha=1/atr_period, min_periods=atr_period).mean()"
   ]
  },
  {
   "cell_type": "code",
   "execution_count": 323,
   "metadata": {},
   "outputs": [],
   "source": [
    "# Supertrend\n",
    "multiplier = 1\n",
    "up = data.loc[:, ['High', 'Low']].mean(1) + (multiplier * data['ATR'])\n",
    "down = data.loc[:, ['High', 'Low']].mean(1) - (multiplier * data['ATR'])"
   ]
  },
  {
   "cell_type": "code",
   "execution_count": 324,
   "metadata": {},
   "outputs": [],
   "source": [
    "# Buy Sell Singal\n",
    "g1 = data['High'].shift(-1) / data['Close'] - 1\n",
    "g2 = data['High'].shift(-2).rolling(2).max() / data['Close'] - 1\n",
    "g3 = data['High'].shift(-3).rolling(3).max() / data['Close'] - 1\n",
    "g4 = data['High'].shift(-4).rolling(4).max() / data['Close'] - 1\n",
    "g5 = data['High'].shift(-5).rolling(5).max() / data['Close'] - 1\n",
    "supertrend = pd.DataFrame(np.stack([data['Close'].shift(-1), up, down, \n",
    "                                    g1, g2, g3, g4, g5], axis=1),\n",
    "                          columns=['Close', 'Upperband', 'Lowerband', \n",
    "                                   'Gain1', 'Gain2', 'Gain3', 'Gain4', 'Gain5'],\n",
    "                          index=data.index)\n",
    "signal = {d: {'Previous_singal': np.nan,\n",
    "              'Buy_at': 0,\n",
    "              'Gain1': 0,\n",
    "              'Gain2': 0,\n",
    "              'Gain3': 0,\n",
    "              'Gain4': 0,\n",
    "              'Gain5': 0,\n",
    "              'Signal': np.nan}\n",
    "          for d in data.index}\n",
    "for d, trend in supertrend.iterrows():\n",
    "    c = trend['Close']\n",
    "    u = trend.Upperband\n",
    "    l = trend.Lowerband\n",
    "    g1 = trend.Gain1\n",
    "    g2 = trend.Gain2\n",
    "    g3 = trend.Gain3\n",
    "    g4 = trend.Gain4\n",
    "    g5 = trend.Gain5\n",
    "    if pd.isna(c) or pd.isna(u) or pd.isna(l) or pd.isna(g5):\n",
    "        continue\n",
    "    # Check Singal\n",
    "    if c > u:\n",
    "        signal[d]['Buy_at'] = c\n",
    "        signal[d]['Gain1'] = g1\n",
    "        signal[d]['Gain2'] = g2\n",
    "        signal[d]['Gain3'] = g3\n",
    "        signal[d]['Gain4'] = g4\n",
    "        signal[d]['Gain5'] = g5\n",
    "        signal[d]['Signal'] = 'Long'\n",
    "    "
   ]
  },
  {
   "cell_type": "code",
   "execution_count": 325,
   "metadata": {},
   "outputs": [],
   "source": [
    "df = pd.DataFrame.from_dict(signal, orient='index')"
   ]
  },
  {
   "cell_type": "code",
   "execution_count": 326,
   "metadata": {},
   "outputs": [
    {
     "name": "stdout",
     "output_type": "stream",
     "text": [
      "Num of Trades 16\n",
      "Pct of Trades: 6.35%\n"
     ]
    },
    {
     "data": {
      "text/html": [
       "<div>\n",
       "<style scoped>\n",
       "    .dataframe tbody tr th:only-of-type {\n",
       "        vertical-align: middle;\n",
       "    }\n",
       "\n",
       "    .dataframe tbody tr th {\n",
       "        vertical-align: top;\n",
       "    }\n",
       "\n",
       "    .dataframe thead th {\n",
       "        text-align: right;\n",
       "    }\n",
       "</style>\n",
       "<table border=\"1\" class=\"dataframe\">\n",
       "  <thead>\n",
       "    <tr style=\"text-align: right;\">\n",
       "      <th></th>\n",
       "      <th>Gain1</th>\n",
       "      <th>Gain2</th>\n",
       "      <th>Gain3</th>\n",
       "      <th>Gain4</th>\n",
       "      <th>Gain5</th>\n",
       "    </tr>\n",
       "  </thead>\n",
       "  <tbody>\n",
       "    <tr>\n",
       "      <th>0.00</th>\n",
       "      <td>1.0000</td>\n",
       "      <td>1.0000</td>\n",
       "      <td>1.0000</td>\n",
       "      <td>1.0000</td>\n",
       "      <td>1.0000</td>\n",
       "    </tr>\n",
       "    <tr>\n",
       "      <th>0.01</th>\n",
       "      <td>1.0000</td>\n",
       "      <td>1.0000</td>\n",
       "      <td>1.0000</td>\n",
       "      <td>1.0000</td>\n",
       "      <td>1.0000</td>\n",
       "    </tr>\n",
       "    <tr>\n",
       "      <th>0.02</th>\n",
       "      <td>1.0000</td>\n",
       "      <td>1.0000</td>\n",
       "      <td>1.0000</td>\n",
       "      <td>1.0000</td>\n",
       "      <td>1.0000</td>\n",
       "    </tr>\n",
       "    <tr>\n",
       "      <th>0.03</th>\n",
       "      <td>1.0000</td>\n",
       "      <td>1.0000</td>\n",
       "      <td>1.0000</td>\n",
       "      <td>1.0000</td>\n",
       "      <td>1.0000</td>\n",
       "    </tr>\n",
       "    <tr>\n",
       "      <th>0.04</th>\n",
       "      <td>1.0000</td>\n",
       "      <td>1.0000</td>\n",
       "      <td>1.0000</td>\n",
       "      <td>1.0000</td>\n",
       "      <td>1.0000</td>\n",
       "    </tr>\n",
       "    <tr>\n",
       "      <th>0.05</th>\n",
       "      <td>1.0000</td>\n",
       "      <td>1.0000</td>\n",
       "      <td>1.0000</td>\n",
       "      <td>1.0000</td>\n",
       "      <td>1.0000</td>\n",
       "    </tr>\n",
       "    <tr>\n",
       "      <th>0.06</th>\n",
       "      <td>0.9375</td>\n",
       "      <td>0.9375</td>\n",
       "      <td>0.9375</td>\n",
       "      <td>0.9375</td>\n",
       "      <td>0.9375</td>\n",
       "    </tr>\n",
       "    <tr>\n",
       "      <th>0.07</th>\n",
       "      <td>0.9375</td>\n",
       "      <td>0.9375</td>\n",
       "      <td>0.9375</td>\n",
       "      <td>0.9375</td>\n",
       "      <td>0.9375</td>\n",
       "    </tr>\n",
       "    <tr>\n",
       "      <th>0.08</th>\n",
       "      <td>0.8750</td>\n",
       "      <td>0.8750</td>\n",
       "      <td>0.8750</td>\n",
       "      <td>0.9375</td>\n",
       "      <td>0.9375</td>\n",
       "    </tr>\n",
       "    <tr>\n",
       "      <th>0.09</th>\n",
       "      <td>0.7500</td>\n",
       "      <td>0.8750</td>\n",
       "      <td>0.8750</td>\n",
       "      <td>0.9375</td>\n",
       "      <td>0.9375</td>\n",
       "    </tr>\n",
       "  </tbody>\n",
       "</table>\n",
       "</div>"
      ],
      "text/plain": [
       "       Gain1   Gain2   Gain3   Gain4   Gain5\n",
       "0.00  1.0000  1.0000  1.0000  1.0000  1.0000\n",
       "0.01  1.0000  1.0000  1.0000  1.0000  1.0000\n",
       "0.02  1.0000  1.0000  1.0000  1.0000  1.0000\n",
       "0.03  1.0000  1.0000  1.0000  1.0000  1.0000\n",
       "0.04  1.0000  1.0000  1.0000  1.0000  1.0000\n",
       "0.05  1.0000  1.0000  1.0000  1.0000  1.0000\n",
       "0.06  0.9375  0.9375  0.9375  0.9375  0.9375\n",
       "0.07  0.9375  0.9375  0.9375  0.9375  0.9375\n",
       "0.08  0.8750  0.8750  0.8750  0.9375  0.9375\n",
       "0.09  0.7500  0.8750  0.8750  0.9375  0.9375"
      ]
     },
     "execution_count": 326,
     "metadata": {},
     "output_type": "execute_result"
    }
   ],
   "source": [
    "mask = df['Signal'] == 'Long'\n",
    "print('Num of Trades', mask.sum())\n",
    "print('Pct of Trades: {:.2f}%'.format(mask.sum() / len(data) * 100))\n",
    "dic = {}\n",
    "for pct in np.arange(0, .1, step=.01):\n",
    "    dic[pct] = (df.loc[mask, ['Gain1', 'Gain2', 'Gain3', 'Gain4', 'Gain5']] > pct).mean(0)\n",
    "pd.DataFrame.from_dict(dic, orient='index')"
   ]
  },
  {
   "cell_type": "code",
   "execution_count": null,
   "metadata": {},
   "outputs": [],
   "source": []
  }
 ],
 "metadata": {
  "interpreter": {
   "hash": "381790eac76a4074dff82f2b50f800dde9e4aec7e4db9cc2ec461915829060f9"
  },
  "kernelspec": {
   "display_name": "Python 3.9.7 ('.venv': venv)",
   "language": "python",
   "name": "python3"
  },
  "language_info": {
   "codemirror_mode": {
    "name": "ipython",
    "version": 3
   },
   "file_extension": ".py",
   "mimetype": "text/x-python",
   "name": "python",
   "nbconvert_exporter": "python",
   "pygments_lexer": "ipython3",
   "version": "3.9.7"
  },
  "orig_nbformat": 4
 },
 "nbformat": 4,
 "nbformat_minor": 2
}
