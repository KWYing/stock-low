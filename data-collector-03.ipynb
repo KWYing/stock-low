{
 "cells": [
  {
   "cell_type": "code",
   "execution_count": 1,
   "metadata": {},
   "outputs": [],
   "source": [
    "import os, json\n",
    "import numpy as np\n",
    "import pandas as pd\n",
    "from dLoader import DataLoader"
   ]
  },
  {
   "cell_type": "markdown",
   "metadata": {},
   "source": [
    "# Get Tickers from Database"
   ]
  },
  {
   "cell_type": "code",
   "execution_count": 41,
   "metadata": {},
   "outputs": [
    {
     "name": "stdout",
     "output_type": "stream",
     "text": [
      "Total tickers met parameters in Database: 145\n"
     ]
    }
   ],
   "source": [
    "directory = os.path.join(os.getcwd(), 'Database')\n",
    "# Search Param\n",
    "min_dollar = 0\n",
    "max_dollar = 5\n",
    "min_length = 250 * 6\n",
    "today = pd.Timestamp.now()\n",
    "# Placeholder\n",
    "tickers = []\n",
    "files = os.listdir(directory)\n",
    "if 'keeper.json' in files:\n",
    "    path = os.path.join(directory, 'keeper.json')\n",
    "    db = pd.read_json(path, orient='index')\n",
    "    # Get pricing\n",
    "    mask = (db['Latest Price'].between(min_dollar, max_dollar)) & (db['Length in Database'] > min_length)\n",
    "    ndb = db.loc[mask].copy()\n",
    "    need_update = (today.day - pd.to_datetime(ndb['Last Updated']).dt.day) > 5\n",
    "    if need_update.sum() > 0:\n",
    "        jFile = json.load(open(path, 'r'))\n",
    "        for ticker in ndb.loc[need_update].index.to_list():\n",
    "            DataLoader(ticker).update_database()\n",
    "            jFile[ticker]['Last Updated'] = today.strftime('%Y-%m-%d')\n",
    "        # Write json file\n",
    "        json.dump(jFile, open(path, 'w'), indent=4)\n",
    "    tickers = db.loc[mask].index.to_list()\n",
    "else:\n",
    "    jFile = {}\n",
    "    for file in files:\n",
    "        name, ext = file.split('.')\n",
    "        if ext == 'csv':\n",
    "            df = DataLoader(name).data\n",
    "            latest_price = df['Close'].iloc[-1]\n",
    "            jFile[name] = {'Latest Price': latest_price,\n",
    "                           'Length in Database': len(df),\n",
    "                           'Last Updated': df.index[-1].strftime('%Y-%m-%d')}\n",
    "            if len(df) > min_length and (min_dollar < latest_price < max_dollar):\n",
    "                tickers.append(name)\n",
    "    # Write json file\n",
    "    with open(os.path.join(directory, 'keeper.json'), 'w') as outfile:\n",
    "        json.dump(jFile, outfile, indent=4)\n",
    "\n",
    "print('Total tickers met parameters in Database: {}'.format(len(tickers)))"
   ]
  },
  {
   "cell_type": "code",
   "execution_count": 42,
   "metadata": {},
   "outputs": [],
   "source": [
    "def sim(data, sell_limit=.03, buy_limit=.03, max_hold=10, capital=1000, max_shares=1000):\n",
    "    data['Previous_Close'] = data['Close'].shift(1)\n",
    "    base_capital = capital\n",
    "    shares = 0\n",
    "    holding = False\n",
    "    buy_at = 0\n",
    "    held = 0\n",
    "    is_selling = False\n",
    "    for d, prices in data.iterrows():\n",
    "        if pd.isna(prices.Previous_Close):\n",
    "            continue\n",
    "        if not holding:\n",
    "            check_low = prices.Low / prices.Previous_Close - 1\n",
    "            if check_low < -buy_limit:\n",
    "                buy_at = prices.Low * (1 + buy_limit)\n",
    "                shares = capital // buy_at\n",
    "                shares = shares if shares <= max_shares else max_shares\n",
    "                capital -= buy_at * shares\n",
    "                holding = True\n",
    "                is_selling = False\n",
    "        else:\n",
    "            held += 1\n",
    "            check_open = prices.Open / buy_at - 1\n",
    "            check_high = prices.High / buy_at - 1\n",
    "            if check_open > sell_limit:\n",
    "                sell_price = prices.Open\n",
    "                is_selling = True\n",
    "            elif check_high > sell_limit:\n",
    "                sell_price = buy_at * (1 + sell_limit)\n",
    "                is_selling = True\n",
    "            elif held > max_hold:\n",
    "                sell_price = prices.Close\n",
    "                is_selling = True\n",
    "            \n",
    "            if is_selling:\n",
    "                capital += sell_price * shares\n",
    "                shares = 0\n",
    "                buy_at = 0\n",
    "                holding = False\n",
    "                held = 0\n",
    "                is_selling = False\n",
    "    if holding:\n",
    "        capital += data.iloc[-1]['Close'] * shares\n",
    "\n",
    "    return capital / base_capital - 1"
   ]
  },
  {
   "cell_type": "code",
   "execution_count": 43,
   "metadata": {},
   "outputs": [],
   "source": [
    "start_dates = pd.date_range('2018-01-01', '2020-12-31', freq='QS')\n",
    "end_dates = pd.date_range('2018-01-01', '2020-12-31', freq='Q')\n",
    "dic = {}\n",
    "for ticker in tickers:\n",
    "    stat = []\n",
    "    try:\n",
    "        for start, end in zip(start_dates, end_dates):\n",
    "            data = DataLoader(ticker).get_data(start.strftime('%Y-%m-%d'), \n",
    "                                            end.strftime('%Y-%m-%d'))\n",
    "            stat.append(sim(data))\n",
    "            if len(stat) > 4 and np.mean(stat) < .2:\n",
    "                break\n",
    "        avg_quarterly_status = np.mean(stat)\n",
    "    except Exception as e:\n",
    "        continue\n",
    "    dic[ticker] = {'Cap Gain': avg_quarterly_status}"
   ]
  },
  {
   "cell_type": "code",
   "execution_count": 44,
   "metadata": {},
   "outputs": [],
   "source": [
    "df = pd.DataFrame.from_dict(dic, orient='index')"
   ]
  },
  {
   "cell_type": "code",
   "execution_count": 45,
   "metadata": {},
   "outputs": [
    {
     "data": {
      "text/plain": [
       "['ATOS', 'BTX', 'GBOX', 'HGEN', 'UAVS']"
      ]
     },
     "execution_count": 45,
     "metadata": {},
     "output_type": "execute_result"
    }
   ],
   "source": [
    "mask = df['Cap Gain'].between(.6, 10)\n",
    "backtest_tickers = df[mask].index.to_list()\n",
    "backtest_tickers"
   ]
  },
  {
   "cell_type": "code",
   "execution_count": 52,
   "metadata": {},
   "outputs": [],
   "source": [
    "base_capital = 1000\n",
    "start_dates = pd.date_range('2021-01-01', '2021-12-31', freq='QS')\n",
    "end_dates = pd.date_range('2021-01-01', '2021-12-31', freq='Q')\n",
    "total_gain = {ticker: {'Quarterly Cap Gain': 0,\n",
    "                       'Cap Gain': 0,\n",
    "                       'Base Cap': 0,\n",
    "                       'End Dollar': 0,\n",
    "                       'Stop': 0} \n",
    "              for ticker in backtest_tickers}\n",
    "for ticker in backtest_tickers:\n",
    "    sect_cap = base_capital / len(backtest_tickers)\n",
    "    total_gain[ticker]['Base Cap'] = sect_cap\n",
    "    stat = []\n",
    "    try:\n",
    "        for start, end in zip(start_dates, end_dates):\n",
    "            data = DataLoader(ticker).get_data(start.strftime('%Y-%m-%d'), \n",
    "                                            end.strftime('%Y-%m-%d'))\n",
    "            score = sim(data, capital=sect_cap, max_shares=10000)\n",
    "            sect_cap = sect_cap * (1 + score)\n",
    "            stat.append(score)\n",
    "            if score < .6:\n",
    "                break\n",
    "        total_gain[ticker]['Quarterly Cap Gain'] = np.mean(stat)\n",
    "        total_gain[ticker]['End Dollar'] = sect_cap\n",
    "        total_gain[ticker]['Cap Gain'] = sect_cap - total_gain[ticker]['Base Cap']\n",
    "        total_gain[ticker]['Stop'] = end\n",
    "    except Exception as e:\n",
    "        continue"
   ]
  },
  {
   "cell_type": "code",
   "execution_count": 53,
   "metadata": {},
   "outputs": [
    {
     "data": {
      "text/html": [
       "<div>\n",
       "<style scoped>\n",
       "    .dataframe tbody tr th:only-of-type {\n",
       "        vertical-align: middle;\n",
       "    }\n",
       "\n",
       "    .dataframe tbody tr th {\n",
       "        vertical-align: top;\n",
       "    }\n",
       "\n",
       "    .dataframe thead th {\n",
       "        text-align: right;\n",
       "    }\n",
       "</style>\n",
       "<table border=\"1\" class=\"dataframe\">\n",
       "  <thead>\n",
       "    <tr style=\"text-align: right;\">\n",
       "      <th></th>\n",
       "      <th>Quarterly Cap Gain</th>\n",
       "      <th>Cap Gain</th>\n",
       "      <th>Base Cap</th>\n",
       "      <th>End Dollar</th>\n",
       "      <th>Stop</th>\n",
       "    </tr>\n",
       "  </thead>\n",
       "  <tbody>\n",
       "    <tr>\n",
       "      <th>ATOS</th>\n",
       "      <td>0.630849</td>\n",
       "      <td>438.819215</td>\n",
       "      <td>200.0</td>\n",
       "      <td>638.819215</td>\n",
       "      <td>2021-09-30</td>\n",
       "    </tr>\n",
       "    <tr>\n",
       "      <th>BTX</th>\n",
       "      <td>1.090876</td>\n",
       "      <td>802.618225</td>\n",
       "      <td>200.0</td>\n",
       "      <td>1002.618225</td>\n",
       "      <td>2021-09-30</td>\n",
       "    </tr>\n",
       "    <tr>\n",
       "      <th>GBOX</th>\n",
       "      <td>0.804270</td>\n",
       "      <td>418.740421</td>\n",
       "      <td>200.0</td>\n",
       "      <td>618.740421</td>\n",
       "      <td>2021-06-30</td>\n",
       "    </tr>\n",
       "    <tr>\n",
       "      <th>HGEN</th>\n",
       "      <td>0.434452</td>\n",
       "      <td>86.890389</td>\n",
       "      <td>200.0</td>\n",
       "      <td>286.890389</td>\n",
       "      <td>2021-03-31</td>\n",
       "    </tr>\n",
       "    <tr>\n",
       "      <th>UAVS</th>\n",
       "      <td>0.204841</td>\n",
       "      <td>40.968103</td>\n",
       "      <td>200.0</td>\n",
       "      <td>240.968103</td>\n",
       "      <td>2021-03-31</td>\n",
       "    </tr>\n",
       "  </tbody>\n",
       "</table>\n",
       "</div>"
      ],
      "text/plain": [
       "      Quarterly Cap Gain    Cap Gain  Base Cap   End Dollar       Stop\n",
       "ATOS            0.630849  438.819215     200.0   638.819215 2021-09-30\n",
       "BTX             1.090876  802.618225     200.0  1002.618225 2021-09-30\n",
       "GBOX            0.804270  418.740421     200.0   618.740421 2021-06-30\n",
       "HGEN            0.434452   86.890389     200.0   286.890389 2021-03-31\n",
       "UAVS            0.204841   40.968103     200.0   240.968103 2021-03-31"
      ]
     },
     "execution_count": 53,
     "metadata": {},
     "output_type": "execute_result"
    }
   ],
   "source": [
    "df = pd.DataFrame.from_dict(total_gain, orient='index')\n",
    "df"
   ]
  },
  {
   "cell_type": "code",
   "execution_count": 54,
   "metadata": {},
   "outputs": [
    {
     "data": {
      "text/plain": [
       "(1788.036353508001, 2788.0363535080014)"
      ]
     },
     "execution_count": 54,
     "metadata": {},
     "output_type": "execute_result"
    }
   ],
   "source": [
    "df['Cap Gain'].sum(), df['End Dollar'].sum()"
   ]
  },
  {
   "cell_type": "code",
   "execution_count": null,
   "metadata": {},
   "outputs": [],
   "source": []
  }
 ],
 "metadata": {
  "interpreter": {
   "hash": "381790eac76a4074dff82f2b50f800dde9e4aec7e4db9cc2ec461915829060f9"
  },
  "kernelspec": {
   "display_name": "Python 3.9.7 ('.venv': venv)",
   "language": "python",
   "name": "python3"
  },
  "language_info": {
   "codemirror_mode": {
    "name": "ipython",
    "version": 3
   },
   "file_extension": ".py",
   "mimetype": "text/x-python",
   "name": "python",
   "nbconvert_exporter": "python",
   "pygments_lexer": "ipython3",
   "version": "3.9.7"
  },
  "orig_nbformat": 4
 },
 "nbformat": 4,
 "nbformat_minor": 2
}
