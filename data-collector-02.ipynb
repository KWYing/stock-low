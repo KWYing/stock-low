{
 "cells": [
  {
   "cell_type": "code",
   "execution_count": 1,
   "metadata": {},
   "outputs": [],
   "source": [
    "# Denpendancies\n",
    "import os\n",
    "import numpy as np\n",
    "import pandas as pd\n",
    "from dLoader import DataLoader"
   ]
  },
  {
   "cell_type": "code",
   "execution_count": 2,
   "metadata": {},
   "outputs": [],
   "source": [
    "# Load tickers from Database\n",
    "def get_tickers(database='Database'):\n",
    "    db = os.path.join(os.getcwd(), database)\n",
    "    if os.path.exists(db):\n",
    "        tickers = [ld.split('.')[0] for ld in os.listdir(db)]\n",
    "        return sorted(tickers)\n",
    "    print('Database could not be found.')\n",
    "\n",
    "def batching(data, period):\n",
    "    batch = len(data) // period\n",
    "    max_length = batch * period\n",
    "    return np.array(data)[-max_length:].reshape(-1, period)\n",
    "\n",
    "def regroup(data, period):\n",
    "    base = batching(data['Open'], period)[:, 0]\n",
    "    high = batching(data['High'], period).max(1)\n",
    "    low = batching(data['Low'], period).min(1)\n",
    "    close = batching(data['Close'], period)[:, -1]\n",
    "    return pd.DataFrame(np.stack([base, high, low, close], axis=1), \n",
    "                        columns=['Open', 'High', 'Low', 'Close'])\n",
    "\n",
    "def get_pep(g, time=(7.5 / .5)):\n",
    "    m = g > 0\n",
    "    pos = g[m].mean()\n",
    "    neg = np.abs(g[~m].mean()) if not np.isnan(g[~m].mean()) else 0\n",
    "    _rang = pos + neg\n",
    "    return _rang / time"
   ]
  },
  {
   "cell_type": "code",
   "execution_count": 52,
   "metadata": {},
   "outputs": [],
   "source": [
    "ticker = DataLoader('AAPL').get_data('2018-01-01', '2020-12-31')"
   ]
  },
  {
   "cell_type": "code",
   "execution_count": 53,
   "metadata": {},
   "outputs": [
    {
     "name": "stdout",
     "output_type": "stream",
     "text": [
      "0.57::0.0084 | 0.43::-0.0097 | 0.0012\n",
      "0.54::0.0154 | 0.46::-0.0146 | 0.0020\n",
      "0.86::0.0160 | 0.14::-0.0099 | 0.0017\n",
      "1.00::0.0227 | 0.00:: 0.0000 | 0.0015\n"
     ]
    }
   ],
   "source": [
    "# Calculate Peps\n",
    "hc = (ticker['High'].shift(-1) / ticker['Close'] - 1).dropna()\n",
    "cc = (ticker['Close'].shift(-1) / ticker['Close'] - 1).dropna()\n",
    "oc = (ticker['Open'].shift(-1) / ticker['Close'] - 1).dropna()\n",
    "hl = (ticker['High'] / ticker['Low'] - 1).dropna()\n",
    "\n",
    "def print_report(g):\n",
    "    m = g > 0\n",
    "    plen = len(g[m]) / len(g)\n",
    "    pM = g[m].mean()\n",
    "    nlen = len(g[~m]) / len(g)\n",
    "    nM = g[~m].mean() if not np.isnan(g[~m].mean()) else 0\n",
    "    _rang = pM + np.abs(nM)\n",
    "    pep = _rang / (7.5 / .5)\n",
    "    print('{:.2f}::{:.4f} | {:.2f}::{:>7.4f} | {:.4f}'.format(\n",
    "        plen, pM, nlen, nM, pep))\n",
    "    return {'P PCT': plen, \n",
    "            'P Mean': pM, \n",
    "            'N PCT': nlen, \n",
    "            'N Mean': nM, \n",
    "            'Pep': pep}\n",
    "\n",
    "oc_dic = print_report(oc)\n",
    "cc_dic = print_report(cc)\n",
    "hc_dic = print_report(hc)\n",
    "hl_dic = print_report(hl)"
   ]
  },
  {
   "cell_type": "code",
   "execution_count": 56,
   "metadata": {},
   "outputs": [
    {
     "name": "stdout",
     "output_type": "stream",
     "text": [
      "0.0015165436619617079\n"
     ]
    },
    {
     "data": {
      "text/plain": [
       "0.20123018153878633"
      ]
     },
     "execution_count": 56,
     "metadata": {},
     "output_type": "execute_result"
    }
   ],
   "source": [
    "pep = get_pep(hl)\n",
    "print(pep)\n",
    "ticker.Close.iloc[-1] * pep"
   ]
  },
  {
   "cell_type": "code",
   "execution_count": 51,
   "metadata": {},
   "outputs": [],
   "source": [
    "def back_test(ticker, pep, s=6, hs=3, os=2):\n",
    "    holding = False\n",
    "    max_shares = 1000\n",
    "    #\n",
    "    base = 0\n",
    "    shares = 0\n",
    "    #\n",
    "    capital = 1000\n",
    "    base_capital = capital\n",
    "    #\n",
    "    sell = 1 + (s * pep)\n",
    "    for _, prices in ticker.iterrows():\n",
    "        if not holding:\n",
    "            base = prices.Close\n",
    "            shares = capital // base\n",
    "            shares = max_shares if shares > max_shares else shares\n",
    "            #\n",
    "            min_sell = base * sell\n",
    "            stop_price = base * (1 + (-os * pep))\n",
    "            #\n",
    "            holding = True\n",
    "        else:\n",
    "            if prices.Open < stop_price:\n",
    "                gain = prices.Open - base\n",
    "            elif prices.High > min_sell:\n",
    "                gain = (prices.High * (1 + (-hs * pep))) - base\n",
    "            else:\n",
    "                gain = prices.Close - base\n",
    "\n",
    "            capital += np.round(gain * shares, 2)\n",
    "            # \n",
    "            base = 0\n",
    "            shares = 0\n",
    "            #\n",
    "            holding = False\n",
    "\n",
    "    return capital / base_capital - 1"
   ]
  },
  {
   "cell_type": "code",
   "execution_count": 7,
   "metadata": {},
   "outputs": [
    {
     "data": {
      "text/plain": [
       "7.188399999999996"
      ]
     },
     "execution_count": 7,
     "metadata": {},
     "output_type": "execute_result"
    }
   ],
   "source": [
    "back_test(ticker, pep)"
   ]
  },
  {
   "cell_type": "code",
   "execution_count": 8,
   "metadata": {},
   "outputs": [],
   "source": [
    "tickers = get_tickers()"
   ]
  },
  {
   "cell_type": "code",
   "execution_count": 46,
   "metadata": {},
   "outputs": [],
   "source": [
    "dic = {}\n",
    "for ticker in tickers:\n",
    "    data = DataLoader(ticker).get_data('2018-01-01', '2020-12-31')\n",
    "    data = regroup(data, 3)\n",
    "    g = (data['High'] / data['Low'] - 1).dropna()\n",
    "    pep = get_pep(g, time=(7.5 / (15 / 60)))\n",
    "    above_pep = (g > pep).mean()\n",
    "    data = DataLoader(ticker).get_data('2021-01-01', '2021-3-31')\n",
    "    data = regroup(data, 3)\n",
    "    cap_gain = back_test(data, pep)\n",
    "    dic[ticker] = {'PEP': pep, 'Above Pep': above_pep, 'Cap Gain': cap_gain}"
   ]
  },
  {
   "cell_type": "code",
   "execution_count": 47,
   "metadata": {},
   "outputs": [],
   "source": [
    "df = pd.DataFrame.from_dict(dic, orient='index')"
   ]
  },
  {
   "cell_type": "code",
   "execution_count": 48,
   "metadata": {},
   "outputs": [
    {
     "data": {
      "text/html": [
       "<div>\n",
       "<style scoped>\n",
       "    .dataframe tbody tr th:only-of-type {\n",
       "        vertical-align: middle;\n",
       "    }\n",
       "\n",
       "    .dataframe tbody tr th {\n",
       "        vertical-align: top;\n",
       "    }\n",
       "\n",
       "    .dataframe thead th {\n",
       "        text-align: right;\n",
       "    }\n",
       "</style>\n",
       "<table border=\"1\" class=\"dataframe\">\n",
       "  <thead>\n",
       "    <tr style=\"text-align: right;\">\n",
       "      <th></th>\n",
       "      <th>PEP</th>\n",
       "      <th>Above Pep</th>\n",
       "      <th>Cap Gain</th>\n",
       "    </tr>\n",
       "  </thead>\n",
       "  <tbody>\n",
       "    <tr>\n",
       "      <th>AMC</th>\n",
       "      <td>0.004576</td>\n",
       "      <td>1.000000</td>\n",
       "      <td>10.62098</td>\n",
       "    </tr>\n",
       "    <tr>\n",
       "      <th>OCGN</th>\n",
       "      <td>0.009159</td>\n",
       "      <td>1.000000</td>\n",
       "      <td>6.14537</td>\n",
       "    </tr>\n",
       "    <tr>\n",
       "      <th>HOFV</th>\n",
       "      <td>0.002595</td>\n",
       "      <td>0.601695</td>\n",
       "      <td>4.62073</td>\n",
       "    </tr>\n",
       "    <tr>\n",
       "      <th>RUBY</th>\n",
       "      <td>0.005251</td>\n",
       "      <td>1.000000</td>\n",
       "      <td>4.52963</td>\n",
       "    </tr>\n",
       "    <tr>\n",
       "      <th>ASXC</th>\n",
       "      <td>0.006457</td>\n",
       "      <td>1.000000</td>\n",
       "      <td>4.05436</td>\n",
       "    </tr>\n",
       "    <tr>\n",
       "      <th>...</th>\n",
       "      <td>...</td>\n",
       "      <td>...</td>\n",
       "      <td>...</td>\n",
       "    </tr>\n",
       "    <tr>\n",
       "      <th>HYRE</th>\n",
       "      <td>0.006539</td>\n",
       "      <td>1.000000</td>\n",
       "      <td>-0.20569</td>\n",
       "    </tr>\n",
       "    <tr>\n",
       "      <th>MNMD</th>\n",
       "      <td>0.029770</td>\n",
       "      <td>0.801587</td>\n",
       "      <td>-0.20909</td>\n",
       "    </tr>\n",
       "    <tr>\n",
       "      <th>CLSK</th>\n",
       "      <td>0.012194</td>\n",
       "      <td>0.809524</td>\n",
       "      <td>-0.24431</td>\n",
       "    </tr>\n",
       "    <tr>\n",
       "      <th>FOLD</th>\n",
       "      <td>0.003225</td>\n",
       "      <td>1.000000</td>\n",
       "      <td>-0.32184</td>\n",
       "    </tr>\n",
       "    <tr>\n",
       "      <th>SLDB</th>\n",
       "      <td>0.006564</td>\n",
       "      <td>1.000000</td>\n",
       "      <td>-0.36417</td>\n",
       "    </tr>\n",
       "  </tbody>\n",
       "</table>\n",
       "<p>1750 rows × 3 columns</p>\n",
       "</div>"
      ],
      "text/plain": [
       "           PEP  Above Pep  Cap Gain\n",
       "AMC   0.004576   1.000000  10.62098\n",
       "OCGN  0.009159   1.000000   6.14537\n",
       "HOFV  0.002595   0.601695   4.62073\n",
       "RUBY  0.005251   1.000000   4.52963\n",
       "ASXC  0.006457   1.000000   4.05436\n",
       "...        ...        ...       ...\n",
       "HYRE  0.006539   1.000000  -0.20569\n",
       "MNMD  0.029770   0.801587  -0.20909\n",
       "CLSK  0.012194   0.809524  -0.24431\n",
       "FOLD  0.003225   1.000000  -0.32184\n",
       "SLDB  0.006564   1.000000  -0.36417\n",
       "\n",
       "[1750 rows x 3 columns]"
      ]
     },
     "execution_count": 48,
     "metadata": {},
     "output_type": "execute_result"
    }
   ],
   "source": [
    "df.sort_values(by='Cap Gain', ascending=False)"
   ]
  },
  {
   "cell_type": "code",
   "execution_count": 49,
   "metadata": {},
   "outputs": [
    {
     "data": {
      "text/html": [
       "<div>\n",
       "<style scoped>\n",
       "    .dataframe tbody tr th:only-of-type {\n",
       "        vertical-align: middle;\n",
       "    }\n",
       "\n",
       "    .dataframe tbody tr th {\n",
       "        vertical-align: top;\n",
       "    }\n",
       "\n",
       "    .dataframe thead th {\n",
       "        text-align: right;\n",
       "    }\n",
       "</style>\n",
       "<table border=\"1\" class=\"dataframe\">\n",
       "  <thead>\n",
       "    <tr style=\"text-align: right;\">\n",
       "      <th></th>\n",
       "      <th>PEP</th>\n",
       "      <th>Above Pep</th>\n",
       "      <th>Cap Gain</th>\n",
       "    </tr>\n",
       "  </thead>\n",
       "  <tbody>\n",
       "    <tr>\n",
       "      <th>AMC</th>\n",
       "      <td>0.004576</td>\n",
       "      <td>1.0</td>\n",
       "      <td>10.62098</td>\n",
       "    </tr>\n",
       "    <tr>\n",
       "      <th>OCGN</th>\n",
       "      <td>0.009159</td>\n",
       "      <td>1.0</td>\n",
       "      <td>6.14537</td>\n",
       "    </tr>\n",
       "  </tbody>\n",
       "</table>\n",
       "</div>"
      ],
      "text/plain": [
       "           PEP  Above Pep  Cap Gain\n",
       "AMC   0.004576        1.0  10.62098\n",
       "OCGN  0.009159        1.0   6.14537"
      ]
     },
     "execution_count": 49,
     "metadata": {},
     "output_type": "execute_result"
    }
   ],
   "source": [
    "mask = (df['Above Pep'] > .9) & (df['Cap Gain'] > 5)\n",
    "df[mask].sort_values(by='Cap Gain', ascending=False)"
   ]
  },
  {
   "cell_type": "code",
   "execution_count": 50,
   "metadata": {},
   "outputs": [
    {
     "name": "stdout",
     "output_type": "stream",
     "text": [
      "   AMC |   0.0046 |   9.4182\n",
      "  OCGN |   0.0092 |   1.4279\n",
      "Total gain for    2 stocks:   542.31%\n"
     ]
    }
   ],
   "source": [
    "gain = 0\n",
    "for ticker in df[mask].index:\n",
    "    data = DataLoader(ticker).get_data('2021-04-01', '2021-12-31')\n",
    "    data = regroup(data, 3)\n",
    "    pep = df.loc[ticker, 'PEP']\n",
    "    cap_gain = back_test(data, pep)\n",
    "    print('{:>6} | {:>8.4f} | {:>8.4f}'.format(ticker, pep, cap_gain))\n",
    "    gain += cap_gain\n",
    "print('Total gain for {:>4} stocks: {:>8.2f}%'.format(mask.sum(), gain / mask.sum() * 100))"
   ]
  },
  {
   "cell_type": "code",
   "execution_count": null,
   "metadata": {},
   "outputs": [],
   "source": []
  }
 ],
 "metadata": {
  "interpreter": {
   "hash": "381790eac76a4074dff82f2b50f800dde9e4aec7e4db9cc2ec461915829060f9"
  },
  "kernelspec": {
   "display_name": "Python 3.9.7 64-bit ('.venv': venv)",
   "language": "python",
   "name": "python3"
  },
  "language_info": {
   "codemirror_mode": {
    "name": "ipython",
    "version": 3
   },
   "file_extension": ".py",
   "mimetype": "text/x-python",
   "name": "python",
   "nbconvert_exporter": "python",
   "pygments_lexer": "ipython3",
   "version": "3.9.7"
  },
  "orig_nbformat": 4
 },
 "nbformat": 4,
 "nbformat_minor": 2
}
