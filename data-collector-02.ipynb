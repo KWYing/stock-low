{
 "cells": [
  {
   "cell_type": "code",
   "execution_count": 1,
   "metadata": {},
   "outputs": [],
   "source": [
    "# Denpendancies\n",
    "import os\n",
    "import numpy as np\n",
    "import pandas as pd\n",
    "from dLoader import DataLoader"
   ]
  },
  {
   "cell_type": "code",
   "execution_count": 2,
   "metadata": {},
   "outputs": [],
   "source": [
    "# Load tickers from Database\n",
    "def get_tickers(database='Database'):\n",
    "    db = os.path.join(os.getcwd(), database)\n",
    "    if os.path.exists(db):\n",
    "        tickers = [ld.split('.')[0] for ld in os.listdir(db)]\n",
    "        return sorted(tickers)\n",
    "    print('Database could not be found.')\n",
    "\n",
    "def batching(data, period):\n",
    "    batch = len(data) // period\n",
    "    max_length = batch * period\n",
    "    return np.array(data)[-max_length:].reshape(-1, period)\n",
    "\n",
    "def regroup(data, period):\n",
    "    base = batching(data['Open'], period)[:, 0]\n",
    "    high = batching(data['High'], period).max(1)\n",
    "    low = batching(data['Low'], period).min(1)\n",
    "    close = batching(data['Close'], period)[:, -1]\n",
    "    return pd.DataFrame(np.stack([base, high, low, close], axis=1), \n",
    "                        columns=['Open', 'High', 'Low', 'Close'])"
   ]
  },
  {
   "cell_type": "code",
   "execution_count": 3,
   "metadata": {},
   "outputs": [],
   "source": [
    "ticker = DataLoader('AAPL').get_data('2018-01-01', '2020-12-31')"
   ]
  },
  {
   "cell_type": "code",
   "execution_count": 9,
   "metadata": {},
   "outputs": [
    {
     "name": "stdout",
     "output_type": "stream",
     "text": [
      "0.57::0.0084 | 0.43::-0.0097 | 0.0012\n",
      "0.54::0.0154 | 0.46::-0.0146 | 0.0020\n",
      "0.86::0.0160 | 0.14::-0.0099 | 0.0017\n",
      "0.94::0.0264 | 0.06::-0.0079 | 0.0023\n"
     ]
    }
   ],
   "source": [
    "# Calculate Peps\n",
    "hl = (ticker['High'].shift(-1) / ticker['Low'] - 1).dropna()\n",
    "hc = (ticker['High'].shift(-1) / ticker['Close'] - 1).dropna()\n",
    "cc = (ticker['Close'].shift(-1) / ticker['Close'] - 1).dropna()\n",
    "oc = (ticker['Open'].shift(-1) / ticker['Close'] - 1).dropna()\n",
    "\n",
    "def print_report(g):\n",
    "    m = g > 0\n",
    "    plen = len(g[m]) / len(g)\n",
    "    pM = g[m].mean()\n",
    "    nlen = len(g[~m]) / len(g)\n",
    "    nM = g[~m].mean()\n",
    "    _rang = g[m].mean() + np.abs(g[~m].mean())\n",
    "    pep = _rang / (7.5 / .5)\n",
    "    print('{:.2f}::{:.4f} | {:.2f}::{:.4f} | {:.4f}'.format(\n",
    "        plen, pM, nlen, nM, pep))\n",
    "    return {'P PCT': plen, \n",
    "            'P Mean': pM, \n",
    "            'N PCT': nlen, \n",
    "            'N Mean': nM, \n",
    "            'Pep': pep}\n",
    "\n",
    "def get_pep(g, time=(7.5 / .5)):\n",
    "    m = g > 0\n",
    "    _rang = g[m].mean() + np.abs(g[~m].mean())\n",
    "    return _rang / time\n",
    "\n",
    "oc_dic = print_report(oc)\n",
    "cc_dic = print_report(cc)\n",
    "hc_dic = print_report(hc)\n",
    "hl_dic = print_report(hl)"
   ]
  },
  {
   "cell_type": "code",
   "execution_count": 5,
   "metadata": {},
   "outputs": [],
   "source": [
    "pep = hc_dic['Pep']"
   ]
  },
  {
   "cell_type": "code",
   "execution_count": 6,
   "metadata": {},
   "outputs": [],
   "source": [
    "def back_test(ticker, pep):\n",
    "    holding = False\n",
    "    max_shares = 1000\n",
    "    #\n",
    "    base = 0\n",
    "    shares = 0\n",
    "    #\n",
    "    capital = 1000\n",
    "    base_capital = capital\n",
    "    #\n",
    "    sell = 1 + (3 * pep)\n",
    "    stop = 1 + (-1 * pep)\n",
    "    for date, prices in ticker.iterrows():\n",
    "        if not holding:\n",
    "            base = prices.Close\n",
    "            shares = capital // base\n",
    "            shares = max_shares if shares > max_shares else shares\n",
    "            #\n",
    "            min_sell = base * sell\n",
    "            stop_price = base * stop\n",
    "            #\n",
    "            holding = True\n",
    "        else:\n",
    "            if prices.Open < stop_price:\n",
    "                gain = prices.Open - base\n",
    "            elif prices.High > min_sell:\n",
    "                gain = (prices.High * stop) - base\n",
    "            else:\n",
    "                gain = prices.Close - base\n",
    "\n",
    "            capital += np.round(gain * shares, 2)\n",
    "            # \n",
    "            base = 0\n",
    "            shares = 0\n",
    "            #\n",
    "            holding = False\n",
    "\n",
    "    return capital / base_capital - 1"
   ]
  },
  {
   "cell_type": "code",
   "execution_count": 7,
   "metadata": {},
   "outputs": [
    {
     "data": {
      "text/plain": [
       "9.701970000000003"
      ]
     },
     "execution_count": 7,
     "metadata": {},
     "output_type": "execute_result"
    }
   ],
   "source": [
    "back_test(ticker, pep)"
   ]
  },
  {
   "cell_type": "code",
   "execution_count": 11,
   "metadata": {},
   "outputs": [],
   "source": [
    "tickers = get_tickers()"
   ]
  },
  {
   "cell_type": "code",
   "execution_count": 28,
   "metadata": {},
   "outputs": [
    {
     "name": "stderr",
     "output_type": "stream",
     "text": [
      "/tmp/ipykernel_32881/3165097499.py:16: RuntimeWarning: invalid value encountered in double_scalars\n",
      "  shares = capital // base\n"
     ]
    }
   ],
   "source": [
    "dic = {}\n",
    "for ticker in tickers:\n",
    "    data = DataLoader(ticker).get_data('2018-01-01', '2020-12-31')\n",
    "    hc = (data['High'].shift(-1) / data['Close'] - 1).dropna()\n",
    "    pep = get_pep(hc)\n",
    "    above_pep = (hc > pep).mean()\n",
    "    data = DataLoader(ticker).get_data('2021-01-01', '2021-1-31')\n",
    "    cap_gain = back_test(data, pep)\n",
    "    dic[ticker] = {'PEP': pep, 'Above Pep': above_pep, 'Cap Gain': cap_gain}"
   ]
  },
  {
   "cell_type": "code",
   "execution_count": 29,
   "metadata": {},
   "outputs": [],
   "source": [
    "df = pd.DataFrame.from_dict(dic, orient='index')"
   ]
  },
  {
   "cell_type": "code",
   "execution_count": 36,
   "metadata": {},
   "outputs": [
    {
     "data": {
      "text/html": [
       "<div>\n",
       "<style scoped>\n",
       "    .dataframe tbody tr th:only-of-type {\n",
       "        vertical-align: middle;\n",
       "    }\n",
       "\n",
       "    .dataframe tbody tr th {\n",
       "        vertical-align: top;\n",
       "    }\n",
       "\n",
       "    .dataframe thead th {\n",
       "        text-align: right;\n",
       "    }\n",
       "</style>\n",
       "<table border=\"1\" class=\"dataframe\">\n",
       "  <thead>\n",
       "    <tr style=\"text-align: right;\">\n",
       "      <th></th>\n",
       "      <th>PEP</th>\n",
       "      <th>Above Pep</th>\n",
       "      <th>Cap Gain</th>\n",
       "    </tr>\n",
       "  </thead>\n",
       "  <tbody>\n",
       "    <tr>\n",
       "      <th>KLDO</th>\n",
       "      <td>0.004960</td>\n",
       "      <td>0.907527</td>\n",
       "      <td>1.35718</td>\n",
       "    </tr>\n",
       "    <tr>\n",
       "      <th>ALDX</th>\n",
       "      <td>0.003761</td>\n",
       "      <td>0.905960</td>\n",
       "      <td>0.78892</td>\n",
       "    </tr>\n",
       "    <tr>\n",
       "      <th>CMRX</th>\n",
       "      <td>0.002777</td>\n",
       "      <td>0.915232</td>\n",
       "      <td>0.65084</td>\n",
       "    </tr>\n",
       "    <tr>\n",
       "      <th>PSNL</th>\n",
       "      <td>0.004540</td>\n",
       "      <td>0.901809</td>\n",
       "      <td>0.61106</td>\n",
       "    </tr>\n",
       "    <tr>\n",
       "      <th>MBIO</th>\n",
       "      <td>0.004122</td>\n",
       "      <td>0.903311</td>\n",
       "      <td>0.50063</td>\n",
       "    </tr>\n",
       "  </tbody>\n",
       "</table>\n",
       "</div>"
      ],
      "text/plain": [
       "           PEP  Above Pep  Cap Gain\n",
       "KLDO  0.004960   0.907527   1.35718\n",
       "ALDX  0.003761   0.905960   0.78892\n",
       "CMRX  0.002777   0.915232   0.65084\n",
       "PSNL  0.004540   0.901809   0.61106\n",
       "MBIO  0.004122   0.903311   0.50063"
      ]
     },
     "execution_count": 36,
     "metadata": {},
     "output_type": "execute_result"
    }
   ],
   "source": [
    "mask = (df['Above Pep'] > .9) & (df['Cap Gain'] > .5)\n",
    "df[mask].sort_values(by='Cap Gain', ascending=False)"
   ]
  },
  {
   "cell_type": "code",
   "execution_count": 42,
   "metadata": {},
   "outputs": [
    {
     "name": "stdout",
     "output_type": "stream",
     "text": [
      "  ALDX |   0.0038 |   3.5078\n",
      "  CMRX |   0.0028 |   4.4536\n",
      "  KLDO |   0.0050 |  15.2914\n",
      "  MBIO |   0.0041 |   3.2978\n",
      "  PSNL |   0.0045 |   4.1264\n"
     ]
    }
   ],
   "source": [
    "for ticker in df[mask].index:\n",
    "    data = DataLoader(ticker).get_data('2021-01-01', '2021-12-31')\n",
    "    pep = df.loc[ticker, 'PEP']\n",
    "    cap_gain = back_test(data, pep)\n",
    "    print('{:>6} | {:>8.4f} | {:>8.4f}'.format(ticker, pep, cap_gain))"
   ]
  },
  {
   "cell_type": "code",
   "execution_count": null,
   "metadata": {},
   "outputs": [],
   "source": []
  }
 ],
 "metadata": {
  "interpreter": {
   "hash": "381790eac76a4074dff82f2b50f800dde9e4aec7e4db9cc2ec461915829060f9"
  },
  "kernelspec": {
   "display_name": "Python 3.9.7 64-bit ('.venv': venv)",
   "language": "python",
   "name": "python3"
  },
  "language_info": {
   "codemirror_mode": {
    "name": "ipython",
    "version": 3
   },
   "file_extension": ".py",
   "mimetype": "text/x-python",
   "name": "python",
   "nbconvert_exporter": "python",
   "pygments_lexer": "ipython3",
   "version": "3.9.7"
  },
  "orig_nbformat": 4
 },
 "nbformat": 4,
 "nbformat_minor": 2
}
