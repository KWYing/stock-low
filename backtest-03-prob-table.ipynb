{
 "cells": [
  {
   "cell_type": "code",
   "execution_count": 2,
   "metadata": {},
   "outputs": [],
   "source": [
    "# Installing dependencies\n",
    "import numpy as np\n",
    "import pandas as pd\n",
    "from dLoader import DataLoader"
   ]
  },
  {
   "cell_type": "code",
   "execution_count": 3,
   "metadata": {},
   "outputs": [],
   "source": [
    "def softmax(x):\n",
    "    # Calculate softmax of x\n",
    "    return np.exp(x) / np.sum(np.exp(x), axis=0)"
   ]
  },
  {
   "cell_type": "code",
   "execution_count": 74,
   "metadata": {},
   "outputs": [],
   "source": [
    "def batch_pct(data, batch_size, h='High', c='Close'):\n",
    "    # Batching\n",
    "    length = len(data)\n",
    "    total_batch = length // batch_size\n",
    "    fix_length = total_batch * batch_size\n",
    "    # Shifted High\n",
    "    high = data[h].shift(-1).fillna(method='ffill')\n",
    "    close = data[c]\n",
    "    # Reshaping\n",
    "    target = np.array(high)[-fix_length:].reshape(total_batch, batch_size).max(1)\n",
    "    base = np.array(close)[-fix_length:].reshape(total_batch, batch_size)[:, 0]\n",
    "    # Percentage Different between target and base\n",
    "    return target / base - 1"
   ]
  },
  {
   "cell_type": "code",
   "execution_count": 84,
   "metadata": {},
   "outputs": [],
   "source": [
    "rdata = DataLoader('AAPL').get_data('2018-01-01', '2019-12-31')"
   ]
  },
  {
   "cell_type": "code",
   "execution_count": 85,
   "metadata": {},
   "outputs": [
    {
     "name": "stdout",
     "output_type": "stream",
     "text": [
      "Shifted   1 | Num Trades    503 | % of Good  86.48% | Min % Gain  -7.73% | Mean % Gain   1.03% | Max % Gain   7.42%\n",
      "Shifted   2 | Num Trades    251 | % of Good  88.84% | Min % Gain  -5.93% | Mean % Gain   1.58% | Max % Gain   9.51%\n",
      "Shifted   3 | Num Trades    167 | % of Good  90.42% | Min % Gain  -5.76% | Mean % Gain   2.10% | Max % Gain   9.51%\n",
      "Shifted   4 | Num Trades    125 | % of Good  92.00% | Min % Gain  -3.86% | Mean % Gain   2.45% | Max % Gain  10.74%\n",
      "Shifted   5 | Num Trades    100 | % of Good  91.00% | Min % Gain  -2.36% | Mean % Gain   2.76% | Max % Gain   9.83%\n",
      "Shifted   6 | Num Trades     83 | % of Good  89.16% | Min % Gain  -2.15% | Mean % Gain   3.17% | Max % Gain  13.51%\n",
      "Shifted   7 | Num Trades     71 | % of Good  92.96% | Min % Gain  -2.15% | Mean % Gain   3.42% | Max % Gain  11.77%\n",
      "Shifted   8 | Num Trades     62 | % of Good  95.16% | Min % Gain  -1.65% | Mean % Gain   3.90% | Max % Gain  14.28%\n",
      "Shifted   9 | Num Trades     55 | % of Good  92.73% | Min % Gain  -2.15% | Mean % Gain   4.22% | Max % Gain  17.28%\n",
      "Shifted  10 | Num Trades     50 | % of Good  90.00% | Min % Gain  -1.08% | Mean % Gain   4.37% | Max % Gain  11.71%\n",
      "Shifted  11 | Num Trades     45 | % of Good  93.33% | Min % Gain  -2.26% | Mean % Gain   4.43% | Max % Gain  12.50%\n",
      "Shifted  12 | Num Trades     41 | % of Good  92.68% | Min % Gain  -1.37% | Mean % Gain   4.71% | Max % Gain  11.96%\n",
      "Shifted  13 | Num Trades     38 | % of Good  94.74% | Min % Gain  -2.26% | Mean % Gain   5.21% | Max % Gain  14.60%\n",
      "Shifted  14 | Num Trades     35 | % of Good  91.43% | Min % Gain  -1.37% | Mean % Gain   5.55% | Max % Gain  15.48%\n"
     ]
    }
   ],
   "source": [
    "# Checking for the maximum mean gain for N shift in day\n",
    "# When buying near or at close and selling at N days high\n",
    "for s in range(1, 15):\n",
    "    pct = batch_pct(rdata, s)\n",
    "    length = len(pct)\n",
    "    good_mask = pct > 0\n",
    "    pct_of_good = good_mask.sum() / length\n",
    "    min_of_good = pct.min()\n",
    "    mean_of_good = pct.mean()\n",
    "    max_of_good = pct.max()\n",
    "\n",
    "    print('Shifted {:3}'.format(s), end=' | ')\n",
    "    print('Num Trades {:6}'.format(length), end=' | ')\n",
    "    print('% of Good {:6.2f}%'.format(pct_of_good * 100), end=' | ')\n",
    "    print('Min % Gain {:6.2f}%'.format(min_of_good * 100), end=' | ')\n",
    "    print('Mean % Gain {:6.2f}%'.format(mean_of_good * 100), end=' | ')\n",
    "    print('Max % Gain {:6.2f}%'.format(max_of_good * 100))"
   ]
  },
  {
   "cell_type": "code",
   "execution_count": null,
   "metadata": {},
   "outputs": [],
   "source": []
  }
 ],
 "metadata": {
  "interpreter": {
   "hash": "381790eac76a4074dff82f2b50f800dde9e4aec7e4db9cc2ec461915829060f9"
  },
  "kernelspec": {
   "display_name": "Python 3.9.5 64-bit ('.venv': venv)",
   "language": "python",
   "name": "python3"
  },
  "language_info": {
   "codemirror_mode": {
    "name": "ipython",
    "version": 3
   },
   "file_extension": ".py",
   "mimetype": "text/x-python",
   "name": "python",
   "nbconvert_exporter": "python",
   "pygments_lexer": "ipython3",
   "version": "3.9.7"
  },
  "orig_nbformat": 4
 },
 "nbformat": 4,
 "nbformat_minor": 2
}
