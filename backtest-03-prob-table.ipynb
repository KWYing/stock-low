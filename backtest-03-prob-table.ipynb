{
 "cells": [
  {
   "cell_type": "code",
   "execution_count": 1,
   "metadata": {},
   "outputs": [],
   "source": [
    "# Installing dependencies\n",
    "import numpy as np\n",
    "import pandas as pd\n",
    "from dLoader import DataLoader, BuySell"
   ]
  },
  {
   "cell_type": "code",
   "execution_count": 2,
   "metadata": {},
   "outputs": [],
   "source": [
    "def softmax(x):\n",
    "    # Calculate softmax of x\n",
    "    return np.exp(x) / np.sum(np.exp(x), axis=0)"
   ]
  },
  {
   "cell_type": "code",
   "execution_count": 26,
   "metadata": {},
   "outputs": [],
   "source": [
    "rdata = DataLoader('AAPL').get_data('2018-01-01', '2019-12-31')"
   ]
  },
  {
   "cell_type": "code",
   "execution_count": 27,
   "metadata": {},
   "outputs": [
    {
     "name": "stdout",
     "output_type": "stream",
     "text": [
      "Shifted   1 | Num Trades   521 | % Gains   1.03% | % Good Gain  83.30%\n",
      "Shifted   2 | Num Trades   261 | % Gains   1.60% | % Good Gain  91.19%\n",
      "Shifted   3 | Num Trades   174 | % Gains   2.00% | % Good Gain  91.38%\n",
      "Shifted   4 | Num Trades   131 | % Gains   2.38% | % Good Gain  90.84%\n",
      "Shifted   5 | Num Trades   105 | % Gains   2.82% | % Good Gain  94.29%\n",
      "Shifted   6 | Num Trades    87 | % Gains   3.05% | % Good Gain  93.10%\n",
      "Shifted   7 | Num Trades    75 | % Gains   3.23% | % Good Gain  93.33%\n",
      "Shifted   8 | Num Trades    66 | % Gains   3.76% | % Good Gain  90.91%\n",
      "Shifted   9 | Num Trades    58 | % Gains   4.21% | % Good Gain  91.38%\n",
      "Shifted  10 | Num Trades    53 | % Gains   4.22% | % Good Gain  90.57%\n",
      "Shifted  11 | Num Trades    48 | % Gains   4.47% | % Good Gain  91.67%\n",
      "Shifted  12 | Num Trades    44 | % Gains   4.66% | % Good Gain  90.91%\n",
      "Shifted  13 | Num Trades    41 | % Gains   4.83% | % Good Gain  87.80%\n",
      "Shifted  14 | Num Trades    38 | % Gains   5.59% | % Good Gain  97.37%\n"
     ]
    }
   ],
   "source": [
    "# Checking for the maximum mean gain for N shift in day\n",
    "# When buying near or at close and selling at N days high\n",
    "for s in range(1, 15):\n",
    "    days = str(s) + 'B' if s != 0 else 'B'\n",
    "    # Using Pandas groupby and pd.Grouper to get periodic data\n",
    "    # Shift -1 to avoid the current day high being the max high\n",
    "    high = rdata['High'].shift(-1).groupby(by=pd.Grouper(freq=days)).max()\n",
    "    close = rdata['Close'].groupby(by=pd.Grouper(freq=days)).first()\n",
    "    hct = high / close - 1\n",
    "    p = (hct > 0).sum() / len(hct)\n",
    "    print('Shifted {:3} | Num Trades {:5} | '\n",
    "          '% Gains {:6.2f}% | % Good Gain {:6.2f}%'.format(\n",
    "                s, len(hct), hct.mean() * 100, p * 100))"
   ]
  },
  {
   "cell_type": "code",
   "execution_count": null,
   "metadata": {},
   "outputs": [],
   "source": []
  }
 ],
 "metadata": {
  "interpreter": {
   "hash": "381790eac76a4074dff82f2b50f800dde9e4aec7e4db9cc2ec461915829060f9"
  },
  "kernelspec": {
   "display_name": "Python 3.9.5 64-bit ('.venv': venv)",
   "language": "python",
   "name": "python3"
  },
  "language_info": {
   "codemirror_mode": {
    "name": "ipython",
    "version": 3
   },
   "file_extension": ".py",
   "mimetype": "text/x-python",
   "name": "python",
   "nbconvert_exporter": "python",
   "pygments_lexer": "ipython3",
   "version": "3.9.7"
  },
  "orig_nbformat": 4
 },
 "nbformat": 4,
 "nbformat_minor": 2
}
