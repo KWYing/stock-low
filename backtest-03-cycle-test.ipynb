{
 "cells": [
  {
   "cell_type": "code",
   "execution_count": 1,
   "metadata": {},
   "outputs": [],
   "source": [
    "# Installing dependencies\n",
    "import numpy as np\n",
    "import pandas as pd\n",
    "from dLoader import DataLoader, BuySell"
   ]
  },
  {
   "cell_type": "code",
   "execution_count": 2,
   "metadata": {},
   "outputs": [],
   "source": [
    "def softmax(x):\n",
    "    # Calculate softmax of x\n",
    "    return np.exp(x) / np.sum(np.exp(x), axis=0)"
   ]
  },
  {
   "cell_type": "code",
   "execution_count": 50,
   "metadata": {},
   "outputs": [],
   "source": [
    "rdata = DataLoader('AAPL').get_data('2018-01-01', '2019-12-31')"
   ]
  },
  {
   "cell_type": "code",
   "execution_count": 57,
   "metadata": {},
   "outputs": [
    {
     "name": "stdout",
     "output_type": "stream",
     "text": [
      "Shifted   1 days with an average gain of   0.91% in   729 of possible trades\n",
      "Shifted   2 days with an average gain of   1.26% in   365 of possible trades\n",
      "Shifted   3 days with an average gain of   1.49% in   243 of possible trades\n",
      "Shifted   4 days with an average gain of   1.82% in   183 of possible trades\n",
      "Shifted   5 days with an average gain of   2.25% in   146 of possible trades\n"
     ]
    }
   ],
   "source": [
    "# Checking for the maximum mean gain for N shift in day\n",
    "# When buying near or at close and selling at N days high\n",
    "for s in range(1, 6):\n",
    "    days = str(s) + 'd' if s != 0 else 'd'\n",
    "    # Using Pandas groupby and pd.Grouper to get periodic data\n",
    "    high = rdata['High'].groupby(by=pd.Grouper(freq=days)).max()\n",
    "    close = rdata['Close'].groupby(by=pd.Grouper(freq=days)).first()\n",
    "    hct = high / close - 1\n",
    "    print('Shifted {:3} days with an average gain of {:6.2f}% in {:5} of possible trades'.format(\n",
    "        s, hct.mean() * 100, len(hct)))"
   ]
  },
  {
   "cell_type": "code",
   "execution_count": null,
   "metadata": {},
   "outputs": [],
   "source": []
  }
 ],
 "metadata": {
  "interpreter": {
   "hash": "381790eac76a4074dff82f2b50f800dde9e4aec7e4db9cc2ec461915829060f9"
  },
  "kernelspec": {
   "display_name": "Python 3.9.5 64-bit ('.venv': venv)",
   "language": "python",
   "name": "python3"
  },
  "language_info": {
   "codemirror_mode": {
    "name": "ipython",
    "version": 3
   },
   "file_extension": ".py",
   "mimetype": "text/x-python",
   "name": "python",
   "nbconvert_exporter": "python",
   "pygments_lexer": "ipython3",
   "version": "3.9.7"
  },
  "orig_nbformat": 4
 },
 "nbformat": 4,
 "nbformat_minor": 2
}
