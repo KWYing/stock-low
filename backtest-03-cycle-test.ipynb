{
 "cells": [
  {
   "cell_type": "code",
   "execution_count": 1,
   "metadata": {},
   "outputs": [],
   "source": [
    "# Installing dependencies\n",
    "import numpy as np\n",
    "import pandas as pd\n",
    "from dLoader import DataLoader, BuySell"
   ]
  },
  {
   "cell_type": "code",
   "execution_count": 2,
   "metadata": {},
   "outputs": [],
   "source": [
    "def softmax(x):\n",
    "    # Calculate softmax of x\n",
    "    return np.exp(x) / np.sum(np.exp(x), axis=0)"
   ]
  },
  {
   "cell_type": "code",
   "execution_count": 48,
   "metadata": {},
   "outputs": [],
   "source": [
    "class MACross:\n",
    "    # Moving Average Fast Slow Crossover Strategy\n",
    "    # Check Fast Moving Average against Slow Moving Average\n",
    "    # Also checking Current Volume is above \n",
    "    # Volume Moving Average\n",
    "    def __init__(self, fast=3, slow=6):\n",
    "        self.fast=3\n",
    "        self.slow=6\n",
    "    \n",
    "    def check_ma_above(self, df):\n",
    "        # Create Moving Averages for Price and Volume\n",
    "        ndf = self.get_ma(df)\n",
    "        # Check if price and volume is above Moving Averages\n",
    "        if ndf['MA-Above'].iloc[-1] and ndf['MA-Vol-Above'].iloc[-1]:\n",
    "            return True\n",
    "        return False\n",
    "\n",
    "    def get_ma(self, df):\n",
    "        # MA Column Creations\n",
    "        df['Fast'] = df['Close'].rolling(self.fast).mean()\n",
    "        df['Slow'] = df['Low'].rolling(self.slow).mean()\n",
    "        df['MA-Vol'] = df['Volume'].rolling(self.slow).mean()\n",
    "        df['MA-Above'] = df['Fast'] > df['Slow']\n",
    "        df['MA-Vol-Above'] = df['Volume'] > df['MA-Vol']\n",
    "        df['LHT'] = df['Low'] / df['High'].shift(1) - 1\n",
    "        df['FG'] = df['High'].shift(-1) / df['Low'] - 1\n",
    "        return df.dropna()\n"
   ]
  },
  {
   "cell_type": "code",
   "execution_count": null,
   "metadata": {},
   "outputs": [],
   "source": []
  }
 ],
 "metadata": {
  "interpreter": {
   "hash": "381790eac76a4074dff82f2b50f800dde9e4aec7e4db9cc2ec461915829060f9"
  },
  "kernelspec": {
   "display_name": "Python 3.9.5 64-bit ('.venv': venv)",
   "language": "python",
   "name": "python3"
  },
  "language_info": {
   "codemirror_mode": {
    "name": "ipython",
    "version": 3
   },
   "file_extension": ".py",
   "mimetype": "text/x-python",
   "name": "python",
   "nbconvert_exporter": "python",
   "pygments_lexer": "ipython3",
   "version": "3.9.7"
  },
  "orig_nbformat": 4
 },
 "nbformat": 4,
 "nbformat_minor": 2
}
